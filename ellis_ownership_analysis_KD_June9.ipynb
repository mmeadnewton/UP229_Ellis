{
 "cells": [
  {
   "cell_type": "markdown",
   "id": "571f5abe",
   "metadata": {},
   "source": [
    "Import ellis_joined, from kernel in preceeding notebook which details the cleaning and joing process.\n",
    "\n",
    "We are now going to use another assessor's dataset from 2019, and concern ourselves with the period of 2014-2019 in particuar in order to study the determinants of the ellis act on the property level during this period of intensive use.\n",
    "\n",
    "Datasets:\n",
    "\n",
    "Ellis Act Filing Records 2007- Present (May 2021): https://hcidla2.lacity.org/ELLIS - base dataset, now joined, see previous notebook - we will be extracting data from years 2015-2019 for this study. \n",
    "\n",
    "Census tract level demographic and econmoic data: ACS 5 Years 2014 and 2019 from census api through cenpy. Index of tables https://www2.census.gov/programs-surveys/acs/tech_docs/table_shells/2019/: data for Los Angeles County Census Tracts.\n",
    "\n",
    "Los Angeles County Assessors Parcel Records (2019): Purchased by SAJE, used with permissions - used to identify parcel status, features and ownership - GEOJSON export including selected columns for LA city parcels from SAJE owned geopackage."
   ]
  },
  {
   "cell_type": "code",
   "execution_count": 1,
   "id": "10592559",
   "metadata": {},
   "outputs": [],
   "source": [
    "#Import modules: pandas/geopandas\n",
    "import pandas as pd\n",
    "import geopandas as gpd"
   ]
  },
  {
   "cell_type": "code",
   "execution_count": 2,
   "id": "93e14acc",
   "metadata": {},
   "outputs": [
    {
     "data": {
      "text/html": [
       "<div>\n",
       "<style scoped>\n",
       "    .dataframe tbody tr th:only-of-type {\n",
       "        vertical-align: middle;\n",
       "    }\n",
       "\n",
       "    .dataframe tbody tr th {\n",
       "        vertical-align: top;\n",
       "    }\n",
       "\n",
       "    .dataframe thead th {\n",
       "        text-align: right;\n",
       "    }\n",
       "</style>\n",
       "<table border=\"1\" class=\"dataframe\">\n",
       "  <thead>\n",
       "    <tr style=\"text-align: right;\">\n",
       "      <th></th>\n",
       "      <th>Unnamed: 0</th>\n",
       "      <th>application_received</th>\n",
       "      <th>application_year</th>\n",
       "      <th>council_district</th>\n",
       "      <th>address</th>\n",
       "      <th>city</th>\n",
       "      <th>zip</th>\n",
       "      <th>units_withdrawn</th>\n",
       "      <th>replacement_unit</th>\n",
       "      <th>yearbuilt</th>\n",
       "      <th>units</th>\n",
       "      <th>sqftmain</th>\n",
       "      <th>center_lat</th>\n",
       "      <th>center_lon</th>\n",
       "      <th>geometry</th>\n",
       "    </tr>\n",
       "  </thead>\n",
       "  <tbody>\n",
       "    <tr>\n",
       "      <th>0</th>\n",
       "      <td>2040031029</td>\n",
       "      <td>11/6/19</td>\n",
       "      <td>2019</td>\n",
       "      <td>3</td>\n",
       "      <td>22729 W DEL VALLE ST</td>\n",
       "      <td>LOS ANGELES</td>\n",
       "      <td>91364.0</td>\n",
       "      <td>3</td>\n",
       "      <td>0.0</td>\n",
       "      <td>1955.0</td>\n",
       "      <td>3.0</td>\n",
       "      <td>1860.0</td>\n",
       "      <td>34.165880</td>\n",
       "      <td>-118.621319</td>\n",
       "      <td>POINT (-13204864.81828771 4051097.450097568)</td>\n",
       "    </tr>\n",
       "    <tr>\n",
       "      <th>1</th>\n",
       "      <td>2040031030</td>\n",
       "      <td>12/4/19</td>\n",
       "      <td>2019</td>\n",
       "      <td>3</td>\n",
       "      <td>22727 W DEL VALLE ST</td>\n",
       "      <td>WOODLAND HILLS</td>\n",
       "      <td>91364.0</td>\n",
       "      <td>3</td>\n",
       "      <td>0.0</td>\n",
       "      <td>1955.0</td>\n",
       "      <td>3.0</td>\n",
       "      <td>1869.0</td>\n",
       "      <td>34.165929</td>\n",
       "      <td>-118.621164</td>\n",
       "      <td>POINT (-13204847.61386041 4051104.006178072)</td>\n",
       "    </tr>\n",
       "    <tr>\n",
       "      <th>2</th>\n",
       "      <td>2040033033</td>\n",
       "      <td>2/10/16</td>\n",
       "      <td>2016</td>\n",
       "      <td>3</td>\n",
       "      <td>22431 W DEL VALLE ST</td>\n",
       "      <td>WOODLAND HILLS</td>\n",
       "      <td>91364.0</td>\n",
       "      <td>3</td>\n",
       "      <td>0.0</td>\n",
       "      <td>1955.0</td>\n",
       "      <td>3.0</td>\n",
       "      <td>1869.0</td>\n",
       "      <td>34.167389</td>\n",
       "      <td>-118.616525</td>\n",
       "      <td>POINT (-13204331.1860447 4051300.523521864)</td>\n",
       "    </tr>\n",
       "    <tr>\n",
       "      <th>3</th>\n",
       "      <td>2107014004</td>\n",
       "      <td>4/21/20</td>\n",
       "      <td>2020</td>\n",
       "      <td>3</td>\n",
       "      <td>20327 W STAGG ST</td>\n",
       "      <td>LOS ANGELES</td>\n",
       "      <td>91306.0</td>\n",
       "      <td>3</td>\n",
       "      <td>0.0</td>\n",
       "      <td>1910.0</td>\n",
       "      <td>3.0</td>\n",
       "      <td>2446.0</td>\n",
       "      <td>34.211389</td>\n",
       "      <td>-118.576350</td>\n",
       "      <td>POINT (-13199858.95667153 4057221.803746735)</td>\n",
       "    </tr>\n",
       "    <tr>\n",
       "      <th>4</th>\n",
       "      <td>2111025021</td>\n",
       "      <td>3/16/16</td>\n",
       "      <td>2016</td>\n",
       "      <td>3</td>\n",
       "      <td>7118 N JORDAN AVE</td>\n",
       "      <td>CANOGA PARK</td>\n",
       "      <td>91303.0</td>\n",
       "      <td>2</td>\n",
       "      <td>9.0</td>\n",
       "      <td>1947.0</td>\n",
       "      <td>2.0</td>\n",
       "      <td>1489.0</td>\n",
       "      <td>34.199760</td>\n",
       "      <td>-118.602505</td>\n",
       "      <td>POINT (-13202770.5034817 4055656.567431433)</td>\n",
       "    </tr>\n",
       "  </tbody>\n",
       "</table>\n",
       "</div>"
      ],
      "text/plain": [
       "   Unnamed: 0 application_received  application_year  council_district  \\\n",
       "0  2040031029              11/6/19              2019                 3   \n",
       "1  2040031030              12/4/19              2019                 3   \n",
       "2  2040033033              2/10/16              2016                 3   \n",
       "3  2107014004              4/21/20              2020                 3   \n",
       "4  2111025021              3/16/16              2016                 3   \n",
       "\n",
       "                address             city      zip  units_withdrawn  \\\n",
       "0  22729 W DEL VALLE ST     LOS ANGELES   91364.0                3   \n",
       "1  22727 W DEL VALLE ST  WOODLAND HILLS   91364.0                3   \n",
       "2  22431 W DEL VALLE ST  WOODLAND HILLS   91364.0                3   \n",
       "3      20327 W STAGG ST     LOS ANGELES   91306.0                3   \n",
       "4     7118 N JORDAN AVE     CANOGA PARK   91303.0                2   \n",
       "\n",
       "   replacement_unit  yearbuilt  units  sqftmain  center_lat  center_lon  \\\n",
       "0               0.0     1955.0    3.0    1860.0   34.165880 -118.621319   \n",
       "1               0.0     1955.0    3.0    1869.0   34.165929 -118.621164   \n",
       "2               0.0     1955.0    3.0    1869.0   34.167389 -118.616525   \n",
       "3               0.0     1910.0    3.0    2446.0   34.211389 -118.576350   \n",
       "4               9.0     1947.0    2.0    1489.0   34.199760 -118.602505   \n",
       "\n",
       "                                       geometry  \n",
       "0  POINT (-13204864.81828771 4051097.450097568)  \n",
       "1  POINT (-13204847.61386041 4051104.006178072)  \n",
       "2   POINT (-13204331.1860447 4051300.523521864)  \n",
       "3  POINT (-13199858.95667153 4057221.803746735)  \n",
       "4   POINT (-13202770.5034817 4055656.567431433)  "
      ]
     },
     "execution_count": 2,
     "metadata": {},
     "output_type": "execute_result"
    }
   ],
   "source": [
    "ellisdf=pd.read_csv('/Users/alexanderferrer/Documents/GitHub/UP229_Ellis/ellis_joined.csv')\n",
    "\n",
    "ellisdf.head()"
   ]
  },
  {
   "cell_type": "code",
   "execution_count": 3,
   "id": "fa5c8178",
   "metadata": {},
   "outputs": [
    {
     "data": {
      "text/html": [
       "<div>\n",
       "<style scoped>\n",
       "    .dataframe tbody tr th:only-of-type {\n",
       "        vertical-align: middle;\n",
       "    }\n",
       "\n",
       "    .dataframe tbody tr th {\n",
       "        vertical-align: top;\n",
       "    }\n",
       "\n",
       "    .dataframe thead th {\n",
       "        text-align: right;\n",
       "    }\n",
       "</style>\n",
       "<table border=\"1\" class=\"dataframe\">\n",
       "  <thead>\n",
       "    <tr style=\"text-align: right;\">\n",
       "      <th></th>\n",
       "      <th>ain</th>\n",
       "      <th>application_received</th>\n",
       "      <th>application_year</th>\n",
       "      <th>council_district</th>\n",
       "      <th>address</th>\n",
       "      <th>city</th>\n",
       "      <th>zip</th>\n",
       "      <th>units_withdrawn</th>\n",
       "      <th>replacement_unit</th>\n",
       "      <th>yearbuilt</th>\n",
       "      <th>units</th>\n",
       "      <th>sqftmain</th>\n",
       "      <th>center_lat</th>\n",
       "      <th>center_lon</th>\n",
       "      <th>geometry</th>\n",
       "    </tr>\n",
       "  </thead>\n",
       "  <tbody>\n",
       "    <tr>\n",
       "      <th>0</th>\n",
       "      <td>2040031029</td>\n",
       "      <td>11/6/19</td>\n",
       "      <td>2019</td>\n",
       "      <td>3</td>\n",
       "      <td>22729 W DEL VALLE ST</td>\n",
       "      <td>LOS ANGELES</td>\n",
       "      <td>91364.0</td>\n",
       "      <td>3</td>\n",
       "      <td>0.0</td>\n",
       "      <td>1955.0</td>\n",
       "      <td>3.0</td>\n",
       "      <td>1860.0</td>\n",
       "      <td>34.165880</td>\n",
       "      <td>-118.621319</td>\n",
       "      <td>POINT (-13204864.81828771 4051097.450097568)</td>\n",
       "    </tr>\n",
       "    <tr>\n",
       "      <th>1</th>\n",
       "      <td>2040031030</td>\n",
       "      <td>12/4/19</td>\n",
       "      <td>2019</td>\n",
       "      <td>3</td>\n",
       "      <td>22727 W DEL VALLE ST</td>\n",
       "      <td>WOODLAND HILLS</td>\n",
       "      <td>91364.0</td>\n",
       "      <td>3</td>\n",
       "      <td>0.0</td>\n",
       "      <td>1955.0</td>\n",
       "      <td>3.0</td>\n",
       "      <td>1869.0</td>\n",
       "      <td>34.165929</td>\n",
       "      <td>-118.621164</td>\n",
       "      <td>POINT (-13204847.61386041 4051104.006178072)</td>\n",
       "    </tr>\n",
       "    <tr>\n",
       "      <th>2</th>\n",
       "      <td>2040033033</td>\n",
       "      <td>2/10/16</td>\n",
       "      <td>2016</td>\n",
       "      <td>3</td>\n",
       "      <td>22431 W DEL VALLE ST</td>\n",
       "      <td>WOODLAND HILLS</td>\n",
       "      <td>91364.0</td>\n",
       "      <td>3</td>\n",
       "      <td>0.0</td>\n",
       "      <td>1955.0</td>\n",
       "      <td>3.0</td>\n",
       "      <td>1869.0</td>\n",
       "      <td>34.167389</td>\n",
       "      <td>-118.616525</td>\n",
       "      <td>POINT (-13204331.1860447 4051300.523521864)</td>\n",
       "    </tr>\n",
       "    <tr>\n",
       "      <th>3</th>\n",
       "      <td>2107014004</td>\n",
       "      <td>4/21/20</td>\n",
       "      <td>2020</td>\n",
       "      <td>3</td>\n",
       "      <td>20327 W STAGG ST</td>\n",
       "      <td>LOS ANGELES</td>\n",
       "      <td>91306.0</td>\n",
       "      <td>3</td>\n",
       "      <td>0.0</td>\n",
       "      <td>1910.0</td>\n",
       "      <td>3.0</td>\n",
       "      <td>2446.0</td>\n",
       "      <td>34.211389</td>\n",
       "      <td>-118.576350</td>\n",
       "      <td>POINT (-13199858.95667153 4057221.803746735)</td>\n",
       "    </tr>\n",
       "    <tr>\n",
       "      <th>4</th>\n",
       "      <td>2111025021</td>\n",
       "      <td>3/16/16</td>\n",
       "      <td>2016</td>\n",
       "      <td>3</td>\n",
       "      <td>7118 N JORDAN AVE</td>\n",
       "      <td>CANOGA PARK</td>\n",
       "      <td>91303.0</td>\n",
       "      <td>2</td>\n",
       "      <td>9.0</td>\n",
       "      <td>1947.0</td>\n",
       "      <td>2.0</td>\n",
       "      <td>1489.0</td>\n",
       "      <td>34.199760</td>\n",
       "      <td>-118.602505</td>\n",
       "      <td>POINT (-13202770.5034817 4055656.567431433)</td>\n",
       "    </tr>\n",
       "  </tbody>\n",
       "</table>\n",
       "</div>"
      ],
      "text/plain": [
       "          ain application_received  application_year  council_district  \\\n",
       "0  2040031029              11/6/19              2019                 3   \n",
       "1  2040031030              12/4/19              2019                 3   \n",
       "2  2040033033              2/10/16              2016                 3   \n",
       "3  2107014004              4/21/20              2020                 3   \n",
       "4  2111025021              3/16/16              2016                 3   \n",
       "\n",
       "                address             city      zip  units_withdrawn  \\\n",
       "0  22729 W DEL VALLE ST     LOS ANGELES   91364.0                3   \n",
       "1  22727 W DEL VALLE ST  WOODLAND HILLS   91364.0                3   \n",
       "2  22431 W DEL VALLE ST  WOODLAND HILLS   91364.0                3   \n",
       "3      20327 W STAGG ST     LOS ANGELES   91306.0                3   \n",
       "4     7118 N JORDAN AVE     CANOGA PARK   91303.0                2   \n",
       "\n",
       "   replacement_unit  yearbuilt  units  sqftmain  center_lat  center_lon  \\\n",
       "0               0.0     1955.0    3.0    1860.0   34.165880 -118.621319   \n",
       "1               0.0     1955.0    3.0    1869.0   34.165929 -118.621164   \n",
       "2               0.0     1955.0    3.0    1869.0   34.167389 -118.616525   \n",
       "3               0.0     1910.0    3.0    2446.0   34.211389 -118.576350   \n",
       "4               9.0     1947.0    2.0    1489.0   34.199760 -118.602505   \n",
       "\n",
       "                                       geometry  \n",
       "0  POINT (-13204864.81828771 4051097.450097568)  \n",
       "1  POINT (-13204847.61386041 4051104.006178072)  \n",
       "2   POINT (-13204331.1860447 4051300.523521864)  \n",
       "3  POINT (-13199858.95667153 4057221.803746735)  \n",
       "4   POINT (-13202770.5034817 4055656.567431433)  "
      ]
     },
     "execution_count": 3,
     "metadata": {},
     "output_type": "execute_result"
    }
   ],
   "source": [
    "ellisdf.rename(columns={'Unnamed: 0': 'ain',}, inplace=True)\n",
    "\n",
    "ellisdf.head()"
   ]
  },
  {
   "cell_type": "code",
   "execution_count": 4,
   "id": "46d1d58d",
   "metadata": {},
   "outputs": [
    {
     "name": "stdout",
     "output_type": "stream",
     "text": [
      "['2019-11-06T00:00:00.000000000' '2019-12-04T00:00:00.000000000'\n",
      " '2016-02-10T00:00:00.000000000' ... '2020-07-20T00:00:00.000000000'\n",
      " '2018-02-13T00:00:00.000000000' '2017-01-12T00:00:00.000000000']\n"
     ]
    }
   ],
   "source": [
    "ellisdf['application_date'] = pd.to_datetime(ellisdf['application_received'])\n",
    "\n",
    "print(ellisdf['application_date'].unique())"
   ]
  },
  {
   "cell_type": "markdown",
   "id": "4b5b2818",
   "metadata": {},
   "source": [
    "In this case we are only interested in Ellis Act Evictions from 2014 to 2019, so we will create a new dataset dropping the others."
   ]
  },
  {
   "cell_type": "code",
   "execution_count": 5,
   "id": "b787c50c",
   "metadata": {},
   "outputs": [
    {
     "name": "stdout",
     "output_type": "stream",
     "text": [
      "[2019 2016 2015 2018 2017]\n"
     ]
    }
   ],
   "source": [
    "studyellisdf=ellisdf[ellisdf['application_year'].between(2015, 2019)]\n",
    "\n",
    "print(studyellisdf['application_year'].unique())"
   ]
  },
  {
   "cell_type": "code",
   "execution_count": 6,
   "id": "coated-effectiveness",
   "metadata": {},
   "outputs": [],
   "source": [
    "#studyellisdf.to_csv(\"studyellisdf.csv\")"
   ]
  },
  {
   "cell_type": "code",
   "execution_count": 7,
   "id": "a5d9d587",
   "metadata": {},
   "outputs": [
    {
     "name": "stderr",
     "output_type": "stream",
     "text": [
      "/Applications/anaconda3/envs/UP299/lib/python3.8/site-packages/IPython/core/interactiveshell.py:3050: DtypeWarning: Columns (27) have mixed types.Specify dtype option on import or set low_memory=False.\n",
      "  has_raised = await self.run_ast_nodes(code_ast.body, cell_name,\n"
     ]
    },
    {
     "data": {
      "text/plain": [
       "Index(['fid', 'CENTER_LON', 'YearBuilt5', 'YearBuilt4', 'YearBuilt1',\n",
       "       'UseType', 'YearBuilt2', 'APN', 'Bedrooms1', 'Bedrooms2', 'Bedrooms3',\n",
       "       'Bedrooms4', 'Bedrooms5', 'UseDescription', 'MailAddress', 'SQFTmain2',\n",
       "       'SQFTmain3', 'SQFTmain1', 'SQFTmain4', 'SQFTmain5', 'MailCity',\n",
       "       'Units1', 'Units3', 'Units2', 'Units5', 'Units4', 'OwnerFullName',\n",
       "       'AgencyName', 'AIN', 'Bathrooms5', 'Bathrooms4', 'Bathrooms1',\n",
       "       'Bathrooms3', 'Bathrooms2', 'SitusFullAddress', 'Shape.STArea()',\n",
       "       'Shape.STLength()', 'YearBuilt3', 'CENTER_LAT', 'LS1 Sale Amount',\n",
       "       'LS1 Sale Date', 'LS2 Sale Amount', 'LS2 Sale Date'],\n",
       "      dtype='object')"
      ]
     },
     "execution_count": 7,
     "metadata": {},
     "output_type": "execute_result"
    }
   ],
   "source": [
    "parcelsdf=pd.read_csv('/Users/alexanderferrer/Desktop/assessor_2019_la.csv')\n",
    "\n",
    "parcelsdf.columns"
   ]
  },
  {
   "cell_type": "code",
   "execution_count": 8,
   "id": "b2aeb448",
   "metadata": {},
   "outputs": [
    {
     "data": {
      "text/plain": [
       "Index(['fid', 'center_lon', 'yearbuilt5', 'yearbuilt4', 'yearbuilt1',\n",
       "       'usetype', 'yearbuilt2', 'apn', 'bedrooms1', 'bedrooms2', 'bedrooms3',\n",
       "       'bedrooms4', 'bedrooms5', 'usedescription', 'mailaddress', 'sqftmain2',\n",
       "       'sqftmain3', 'sqftmain1', 'sqftmain4', 'sqftmain5', 'mailcity',\n",
       "       'units1', 'units3', 'units2', 'units5', 'units4', 'ownerfullname',\n",
       "       'agencyname', 'ain', 'bathrooms5', 'bathrooms4', 'bathrooms1',\n",
       "       'bathrooms3', 'bathrooms2', 'situsfulladdress', 'shape.starea()',\n",
       "       'shape.stlength()', 'yearbuilt3', 'center_lat', 'ls1 sale amount',\n",
       "       'ls1 sale date', 'ls2 sale amount', 'ls2 sale date'],\n",
       "      dtype='object')"
      ]
     },
     "execution_count": 8,
     "metadata": {},
     "output_type": "execute_result"
    }
   ],
   "source": [
    "parcelsdf.columns=parcelsdf.columns.str.lower()\n",
    "\n",
    "parcelsdf.columns"
   ]
  },
  {
   "cell_type": "code",
   "execution_count": 9,
   "id": "fbc57d76",
   "metadata": {},
   "outputs": [
    {
     "data": {
      "text/plain": [
       "Index(['fid', 'center_lon', 'yearbuilt5', 'yearbuilt4', 'yearbuilt1',\n",
       "       'usetype', 'yearbuilt2', 'apn', 'bedrooms1', 'bedrooms2', 'bedrooms3',\n",
       "       'bedrooms4', 'bedrooms5', 'usedescription', 'mailaddress', 'sqftmain2',\n",
       "       'sqftmain3', 'sqftmain1', 'sqftmain4', 'sqftmain5', 'mailcity',\n",
       "       'units1', 'units3', 'units2', 'units5', 'units4', 'ownerfullname',\n",
       "       'agencyname', 'ain', 'bathrooms5', 'bathrooms4', 'bathrooms1',\n",
       "       'bathrooms3', 'bathrooms2', 'situsfulladdress', 'shape.starea()',\n",
       "       'shape.stlength()', 'yearbuilt3', 'center_lat', 'ls1_sale_amount',\n",
       "       'ls1_sale_date', 'ls2_sale_amount', 'ls2_sale_date'],\n",
       "      dtype='object')"
      ]
     },
     "execution_count": 9,
     "metadata": {},
     "output_type": "execute_result"
    }
   ],
   "source": [
    "parcelsdf.columns = parcelsdf.columns.str.replace(' ','_')\n",
    "\n",
    "parcelsdf.columns"
   ]
  },
  {
   "cell_type": "markdown",
   "id": "02466204",
   "metadata": {},
   "source": [
    "We need to find total values for the parcels' characteristics, so first we need to convert the fields to in and nulls to zeros."
   ]
  },
  {
   "cell_type": "code",
   "execution_count": 10,
   "id": "f145d9d2",
   "metadata": {},
   "outputs": [],
   "source": [
    "parcelsdf[['bedrooms1', 'bedrooms2', 'bedrooms3','bedrooms4', 'bedrooms5','sqftmain2','sqftmain3','sqftmain1', 'sqftmain4', 'sqftmain5','units1', 'units3', 'units2', 'units5', 'units4','bathrooms5', 'bathrooms4', 'bathrooms1','bathrooms3', 'bathrooms2']]= parcelsdf[['bedrooms1', 'bedrooms2', 'bedrooms3','bedrooms4', 'bedrooms5','sqftmain2','sqftmain3','sqftmain1', 'sqftmain4', 'sqftmain5','units1', 'units3', 'units2', 'units5', 'units4','bathrooms5', 'bathrooms4', 'bathrooms1','bathrooms3', 'bathrooms2']].fillna(0)"
   ]
  },
  {
   "cell_type": "code",
   "execution_count": 11,
   "id": "8aaed0ba",
   "metadata": {},
   "outputs": [],
   "source": [
    "parcelsdf[['bedrooms1', 'bedrooms2', 'bedrooms3','bedrooms4', 'bedrooms5','sqftmain2','sqftmain3','sqftmain1', 'sqftmain4', 'sqftmain5','units1', 'units3', 'units2', 'units5', 'units4','bathrooms5', 'bathrooms4', 'bathrooms1','bathrooms3', 'bathrooms2']]= parcelsdf[['bedrooms1', 'bedrooms2', 'bedrooms3','bedrooms4', 'bedrooms5','sqftmain2','sqftmain3','sqftmain1', 'sqftmain4', 'sqftmain5','units1', 'units3', 'units2', 'units5', 'units4','bathrooms5', 'bathrooms4', 'bathrooms1','bathrooms3', 'bathrooms2']].astype(int)"
   ]
  },
  {
   "cell_type": "code",
   "execution_count": 12,
   "id": "6fb6c603",
   "metadata": {},
   "outputs": [],
   "source": [
    "parcelsdf['units_total']=parcelsdf['units1']+parcelsdf['units2']+parcelsdf['units3']+parcelsdf['units4']+parcelsdf['units5']\n",
    "\n",
    "parcelsdf['bedrooms_total']=parcelsdf['bedrooms1']+parcelsdf['bedrooms2']+parcelsdf['bedrooms3']+parcelsdf['bedrooms4']+parcelsdf['bedrooms5']\n",
    "\n",
    "parcelsdf['bathrooms_total']=parcelsdf['bathrooms1']+parcelsdf['bathrooms2']+parcelsdf['bathrooms3']+parcelsdf['bathrooms4']+parcelsdf['bathrooms5']\n",
    "\n",
    "parcelsdf['sqft_total']=parcelsdf['sqftmain1']+parcelsdf['sqftmain2']+parcelsdf['sqftmain3']+parcelsdf['sqftmain4']+parcelsdf['sqftmain5']\n",
    "\n"
   ]
  },
  {
   "cell_type": "markdown",
   "id": "419a3fbf",
   "metadata": {},
   "source": [
    "We also need to find the average built age of the structures on the parcel. However some are inccorectly recorded as 0, and we will need to convert those to null first."
   ]
  },
  {
   "cell_type": "code",
   "execution_count": 13,
   "id": "227a910c",
   "metadata": {},
   "outputs": [],
   "source": [
    "import numpy as np"
   ]
  },
  {
   "cell_type": "code",
   "execution_count": 14,
   "id": "4f60d034",
   "metadata": {},
   "outputs": [],
   "source": [
    "parcelsdf[['yearbuilt5', 'yearbuilt4', 'yearbuilt1','yearbuilt2','yearbuilt3']]=parcelsdf[['yearbuilt5', 'yearbuilt4', 'yearbuilt1','yearbuilt2','yearbuilt3']].replace(0,np.nan)"
   ]
  },
  {
   "cell_type": "code",
   "execution_count": 15,
   "id": "05790833",
   "metadata": {},
   "outputs": [
    {
     "name": "stdout",
     "output_type": "stream",
     "text": [
      "[1961 1948 1981 1926 1952 1950 1977 1956 1980 1959 1954 1973 1945 1901\n",
      " 1912 1908 1933 1895 1906 1913 1935 1890 1914 1921 1931 1922 1898 1905\n",
      " 1927 1923 1953 1904 1909 1900 1911 1929 1885 1936 1919 2003 1907 1893\n",
      " 1944 1941 1902 1880 1887 1899 1940 2006 1896 1918 1947 1892 1963 1897\n",
      " 1910 1978 1903 2001 1966 1946 1939 1975 1938 1951 1924 1915 2004 1937\n",
      " 1920 1960 1965 2007 1986 2002 1964 1958 2010 1916 1979 1962 1957 1990\n",
      " 1932 2009 1997 1991 1930 1993 1992 1928 2011 1985 1943 1949 1988 1925\n",
      " 1976 1917 1891 2016 1942 2008 2014 1999 1881 1934 1984 1968 1989 1884\n",
      " 1972 1971 1967 1983 1994 1955 1969 2005 1982 1987 1998 1996 2017 1894\n",
      " 1995 1889 2015 1970 1974 1888 2013 2000 2012 2018 1886 1882 1804 1883\n",
      " 2019 1833 1875 1867 1857 1819 1866 1870 1861 1827 1815 1828 1806 1879\n",
      " 1873 1864 1834 1863 1872 1852 1877 1868 1808 1869 1865 1855 1812 1825\n",
      " 1859]\n"
     ]
    }
   ],
   "source": [
    "parcelsdf['yearbuilt_avg']=parcelsdf[['yearbuilt5', 'yearbuilt4', 'yearbuilt1','yearbuilt2','yearbuilt3']].mean(axis=1)\n",
    "\n",
    "parcelsdf['yearbuilt_avg']=parcelsdf['yearbuilt_avg'].astype(int)\n",
    "\n",
    "print(parcelsdf.yearbuilt_avg.unique())"
   ]
  },
  {
   "cell_type": "markdown",
   "id": "20253981",
   "metadata": {},
   "source": [
    "Now we can generate some more interesting parcel characteristics, in terms of built area to parcel area, and estimated density."
   ]
  },
  {
   "cell_type": "code",
   "execution_count": 16,
   "id": "b9cc2cbe",
   "metadata": {},
   "outputs": [
    {
     "data": {
      "text/plain": [
       "Index(['fid', 'center_lon', 'yearbuilt5', 'yearbuilt4', 'yearbuilt1',\n",
       "       'usetype', 'yearbuilt2', 'apn', 'bedrooms1', 'bedrooms2', 'bedrooms3',\n",
       "       'bedrooms4', 'bedrooms5', 'usedescription', 'mailaddress', 'sqftmain2',\n",
       "       'sqftmain3', 'sqftmain1', 'sqftmain4', 'sqftmain5', 'mailcity',\n",
       "       'units1', 'units3', 'units2', 'units5', 'units4', 'ownerfullname',\n",
       "       'agencyname', 'ain', 'bathrooms5', 'bathrooms4', 'bathrooms1',\n",
       "       'bathrooms3', 'bathrooms2', 'situsfulladdress', 'shape.starea()',\n",
       "       'shape.stlength()', 'yearbuilt3', 'center_lat', 'ls1_sale_amount',\n",
       "       'ls1_sale_date', 'ls2_sale_amount', 'ls2_sale_date', 'units_total',\n",
       "       'bedrooms_total', 'bathrooms_total', 'sqft_total', 'yearbuilt_avg',\n",
       "       'built_to_land', 'estimated_density_per_acre'],\n",
       "      dtype='object')"
      ]
     },
     "execution_count": 16,
     "metadata": {},
     "output_type": "execute_result"
    }
   ],
   "source": [
    "parcelsdf['built_to_land']=parcelsdf['sqft_total']/parcelsdf['shape.starea()']\n",
    "\n",
    "parcelsdf['estimated_density_per_acre']=(parcelsdf['units_total']/(parcelsdf['shape.starea()']/43560))\n",
    "\n",
    "parcelsdf.columns"
   ]
  },
  {
   "cell_type": "markdown",
   "id": "e3b6e508",
   "metadata": {},
   "source": [
    "Now, we can indentify parcels that were built or sold in the years in question"
   ]
  },
  {
   "cell_type": "code",
   "execution_count": 17,
   "id": "6d01aa5f",
   "metadata": {},
   "outputs": [
    {
     "name": "stdout",
     "output_type": "stream",
     "text": [
      "[19741018.        0. 20191007. ... 19890527. 19721228. 20170422.]\n"
     ]
    }
   ],
   "source": [
    "print(parcelsdf['ls1_sale_date'].unique())"
   ]
  },
  {
   "cell_type": "code",
   "execution_count": 18,
   "id": "1738b188",
   "metadata": {
    "scrolled": true
   },
   "outputs": [
    {
     "name": "stdout",
     "output_type": "stream",
     "text": [
      "['1974-10-18T00:00:00.000000000'                           'NaT'\n",
      " '2019-10-07T00:00:00.000000000' ... '1989-05-27T00:00:00.000000000'\n",
      " '1972-12-28T00:00:00.000000000' '2017-04-22T00:00:00.000000000']\n"
     ]
    }
   ],
   "source": [
    "#what happened here- how can I fix this without dropping the rows with 0?\n",
    "parcelsdf['ls1_sale_date']=parcelsdf.ls1_sale_date.fillna(0)\n",
    "parcelsdf['ls1_sale_date']=parcelsdf.ls1_sale_date.astype(int).astype(str)\n",
    "parcelsdf['last_sold_date']=pd.to_datetime(parcelsdf['ls1_sale_date'],infer_datetime_format=True,errors='coerce')\n",
    "print(parcelsdf.last_sold_date.unique())"
   ]
  },
  {
   "cell_type": "code",
   "execution_count": 19,
   "id": "70ade87e",
   "metadata": {},
   "outputs": [
    {
     "name": "stdout",
     "output_type": "stream",
     "text": [
      "32235\n"
     ]
    }
   ],
   "source": [
    "parcelsdf2=parcelsdf[pd.isna(parcelsdf['last_sold_date'])]\n",
    "print(len(parcelsdf2))"
   ]
  },
  {
   "cell_type": "code",
   "execution_count": 20,
   "id": "e1d9632c",
   "metadata": {},
   "outputs": [
    {
     "name": "stdout",
     "output_type": "stream",
     "text": [
      "147551\n"
     ]
    }
   ],
   "source": [
    "parcelsdf['ls1_sale_date']=parcelsdf.ls1_sale_date.astype(int)\n",
    "parcelsdf['sold_14_19']=parcelsdf.ls1_sale_date.apply(lambda x:1 if (x>20150000 and x<20200000) else 0)\n",
    "\n",
    "sold_14_19df=parcelsdf[parcelsdf['sold_14_19']==1]\n",
    "\n",
    "print(len(sold_14_19df))"
   ]
  },
  {
   "cell_type": "code",
   "execution_count": 21,
   "id": "cf5b6247",
   "metadata": {},
   "outputs": [
    {
     "name": "stdout",
     "output_type": "stream",
     "text": [
      "8688\n"
     ]
    }
   ],
   "source": [
    "parcelsdf['built_14_19']=parcelsdf.yearbuilt_avg.apply(lambda x: 1 if (x>2014 and x<2020) else 0)\n",
    "\n",
    "built_14_19df=parcelsdf[parcelsdf['built_14_19']==1]\n",
    "\n",
    "print(len(built_14_19df))"
   ]
  },
  {
   "cell_type": "code",
   "execution_count": 22,
   "id": "76fc2d93",
   "metadata": {},
   "outputs": [
    {
     "name": "stdout",
     "output_type": "stream",
     "text": [
      "[2 1 5 4 3 0]\n"
     ]
    }
   ],
   "source": [
    "#ask about this too for text, esp wildcard characters\n",
    "\n",
    "parcelsdf['ownerfullname']=parcelsdf['ownerfullname'].astype(str)\n",
    "\n",
    "def process_name(parcelsdf):\n",
    "    if pd.notna(parcelsdf['agencyname']):\n",
    "        return 0\n",
    "    elif  ',' in parcelsdf['ownerfullname'] and 'TRS' not in parcelsdf['ownerfullname'] and 'TRUST' not in parcelsdf['ownerfullname'] and 'TR' not in parcelsdf['ownerfullname'] and 'GP' not in parcelsdf['ownerfullname'] and 'LP' not in parcelsdf['ownerfullname'] and 'LLP' not in parcelsdf['ownerfullname'] and 'PARTNERS' not in parcelsdf['ownerfullname'] and 'LLC' not in parcelsdf['ownerfullname'] and 'LIMITED' not in parcelsdf['ownerfullname'] and 'LTD' not in parcelsdf['ownerfullname'] and 'PARTNERSHIP' not in parcelsdf['ownerfullname']:\n",
    "        return 1\n",
    "    elif 'TRS' in parcelsdf['ownerfullname'] or 'TRUST' in parcelsdf['ownerfullname'] or 'TR' in parcelsdf['ownerfullname']:\n",
    "        return 2\n",
    "    elif 'LP' in parcelsdf['ownerfullname'] or 'GP'in parcelsdf['ownerfullname'] or 'PARTNERS'in parcelsdf['ownerfullname'] or 'PARTNER'in parcelsdf['ownerfullname'] or 'PARTNERSHIP'in parcelsdf['ownerfullname'] :\n",
    "        return 3\n",
    "    elif 'LLC' in parcelsdf['ownerfullname'] or 'LLP'in parcelsdf['ownerfullname'] or 'LTD' in parcelsdf['ownerfullname'] or'LIMITED'in parcelsdf['ownerfullname']:\n",
    "        return 4\n",
    "    else: \n",
    "        return 5\n",
    "    \n",
    "parcelsdf['landlord_type']=parcelsdf.apply(process_name, axis=1)\n",
    "\n",
    "print(parcelsdf.landlord_type.unique())"
   ]
  },
  {
   "cell_type": "code",
   "execution_count": 23,
   "id": "247eff1a",
   "metadata": {},
   "outputs": [
    {
     "data": {
      "text/plain": [
       "1    416397\n",
       "2    232633\n",
       "4     36027\n",
       "5      9971\n",
       "3      8752\n",
       "0      1454\n",
       "Name: landlord_type, dtype: int64"
      ]
     },
     "execution_count": 23,
     "metadata": {},
     "output_type": "execute_result"
    }
   ],
   "source": [
    "parcelsdf.landlord_type.value_counts()"
   ]
  },
  {
   "cell_type": "code",
   "execution_count": 24,
   "id": "86c280c5",
   "metadata": {},
   "outputs": [],
   "source": [
    "#how to create a new df of ll size by counting units and counts of mailing address, then apply to original df\n",
    "\n",
    "tempdf1=parcelsdf.groupby('mailaddress')['mailaddress'].count()\n",
    "\n",
    "tempdf2=parcelsdf.groupby('mailaddress')['units_total'].sum()\n",
    "\n",
    "llaggdf = pd.DataFrame({'n_ll_properties': tempdf1, 'n_ll_units': tempdf2})"
   ]
  },
  {
   "cell_type": "code",
   "execution_count": 25,
   "id": "09045650",
   "metadata": {},
   "outputs": [
    {
     "name": "stdout",
     "output_type": "stream",
     "text": [
      "                                   n_ll_properties  n_ll_units\n",
      "mailaddress                                                   \n",
      " 1 16 7 SAIWAI CHO SHIKI SHI                     1          23\n",
      " 1 RUE DU MOULIN RENARD                          1           1\n",
      " 1-10-4 KAMINOGE SETAGAYA KU                     1           5\n",
      " 1-14-5 YAKUIN-CHUO-KU                           1           1\n",
      " 1-20-23 SAKAI MUSASHIMO-SHI                     1           1\n",
      " 1-8-5 HARUMI NO1706 CHOU KU                     1           1\n",
      " 10 JALAN 13/6 GREENVILLE                        1           1\n",
      " 10/F SURSON COMM BLVD 142 AUSTIN                1           1\n",
      " 100701 RED RYDER RD                             1           1\n",
      " 104-375 WATER ST VANCOUVER                      1           4\n"
     ]
    }
   ],
   "source": [
    "print(llaggdf.head(10))"
   ]
  },
  {
   "cell_type": "code",
   "execution_count": 26,
   "id": "e81c6e1f",
   "metadata": {},
   "outputs": [
    {
     "data": {
      "text/html": [
       "<div>\n",
       "<style scoped>\n",
       "    .dataframe tbody tr th:only-of-type {\n",
       "        vertical-align: middle;\n",
       "    }\n",
       "\n",
       "    .dataframe tbody tr th {\n",
       "        vertical-align: top;\n",
       "    }\n",
       "\n",
       "    .dataframe thead th {\n",
       "        text-align: right;\n",
       "    }\n",
       "</style>\n",
       "<table border=\"1\" class=\"dataframe\">\n",
       "  <thead>\n",
       "    <tr style=\"text-align: right;\">\n",
       "      <th></th>\n",
       "      <th>fid</th>\n",
       "      <th>center_lon</th>\n",
       "      <th>yearbuilt5</th>\n",
       "      <th>yearbuilt4</th>\n",
       "      <th>yearbuilt1</th>\n",
       "      <th>usetype</th>\n",
       "      <th>yearbuilt2</th>\n",
       "      <th>apn</th>\n",
       "      <th>bedrooms1</th>\n",
       "      <th>bedrooms2</th>\n",
       "      <th>...</th>\n",
       "      <th>sqft_total</th>\n",
       "      <th>yearbuilt_avg</th>\n",
       "      <th>built_to_land</th>\n",
       "      <th>estimated_density_per_acre</th>\n",
       "      <th>last_sold_date</th>\n",
       "      <th>sold_14_19</th>\n",
       "      <th>built_14_19</th>\n",
       "      <th>landlord_type</th>\n",
       "      <th>n_ll_properties</th>\n",
       "      <th>n_ll_units</th>\n",
       "    </tr>\n",
       "  </thead>\n",
       "  <tbody>\n",
       "    <tr>\n",
       "      <th>0</th>\n",
       "      <td>5</td>\n",
       "      <td>-118.434714</td>\n",
       "      <td>NaN</td>\n",
       "      <td>NaN</td>\n",
       "      <td>1961.0</td>\n",
       "      <td>Residential</td>\n",
       "      <td>NaN</td>\n",
       "      <td>4357-015-017</td>\n",
       "      <td>3</td>\n",
       "      <td>0</td>\n",
       "      <td>...</td>\n",
       "      <td>2370</td>\n",
       "      <td>1961</td>\n",
       "      <td>0.173059</td>\n",
       "      <td>3.180789</td>\n",
       "      <td>1974-10-18</td>\n",
       "      <td>0</td>\n",
       "      <td>0</td>\n",
       "      <td>2</td>\n",
       "      <td>1.0</td>\n",
       "      <td>1.0</td>\n",
       "    </tr>\n",
       "    <tr>\n",
       "      <th>1</th>\n",
       "      <td>7</td>\n",
       "      <td>-118.509913</td>\n",
       "      <td>NaN</td>\n",
       "      <td>NaN</td>\n",
       "      <td>1948.0</td>\n",
       "      <td>Residential</td>\n",
       "      <td>NaN</td>\n",
       "      <td>2690-001-025</td>\n",
       "      <td>3</td>\n",
       "      <td>0</td>\n",
       "      <td>...</td>\n",
       "      <td>1969</td>\n",
       "      <td>1948</td>\n",
       "      <td>0.071572</td>\n",
       "      <td>1.583370</td>\n",
       "      <td>NaT</td>\n",
       "      <td>0</td>\n",
       "      <td>0</td>\n",
       "      <td>2</td>\n",
       "      <td>3.0</td>\n",
       "      <td>3.0</td>\n",
       "    </tr>\n",
       "    <tr>\n",
       "      <th>2</th>\n",
       "      <td>8</td>\n",
       "      <td>-118.434041</td>\n",
       "      <td>NaN</td>\n",
       "      <td>NaN</td>\n",
       "      <td>1981.0</td>\n",
       "      <td>Residential</td>\n",
       "      <td>NaN</td>\n",
       "      <td>4357-009-014</td>\n",
       "      <td>4</td>\n",
       "      <td>0</td>\n",
       "      <td>...</td>\n",
       "      <td>6180</td>\n",
       "      <td>1981</td>\n",
       "      <td>0.032764</td>\n",
       "      <td>0.230936</td>\n",
       "      <td>2019-10-07</td>\n",
       "      <td>1</td>\n",
       "      <td>0</td>\n",
       "      <td>2</td>\n",
       "      <td>4.0</td>\n",
       "      <td>12.0</td>\n",
       "    </tr>\n",
       "    <tr>\n",
       "      <th>3</th>\n",
       "      <td>21</td>\n",
       "      <td>-118.437185</td>\n",
       "      <td>NaN</td>\n",
       "      <td>NaN</td>\n",
       "      <td>1926.0</td>\n",
       "      <td>Residential</td>\n",
       "      <td>NaN</td>\n",
       "      <td>4357-011-006</td>\n",
       "      <td>7</td>\n",
       "      <td>0</td>\n",
       "      <td>...</td>\n",
       "      <td>6406</td>\n",
       "      <td>1926</td>\n",
       "      <td>0.038333</td>\n",
       "      <td>0.260656</td>\n",
       "      <td>1996-07-15</td>\n",
       "      <td>0</td>\n",
       "      <td>0</td>\n",
       "      <td>1</td>\n",
       "      <td>1.0</td>\n",
       "      <td>1.0</td>\n",
       "    </tr>\n",
       "    <tr>\n",
       "      <th>4</th>\n",
       "      <td>44</td>\n",
       "      <td>-118.511595</td>\n",
       "      <td>NaN</td>\n",
       "      <td>NaN</td>\n",
       "      <td>1952.0</td>\n",
       "      <td>Residential</td>\n",
       "      <td>NaN</td>\n",
       "      <td>2768-018-013</td>\n",
       "      <td>4</td>\n",
       "      <td>0</td>\n",
       "      <td>...</td>\n",
       "      <td>2773</td>\n",
       "      <td>1952</td>\n",
       "      <td>0.146416</td>\n",
       "      <td>2.299997</td>\n",
       "      <td>1999-10-28</td>\n",
       "      <td>0</td>\n",
       "      <td>0</td>\n",
       "      <td>2</td>\n",
       "      <td>1.0</td>\n",
       "      <td>1.0</td>\n",
       "    </tr>\n",
       "    <tr>\n",
       "      <th>5</th>\n",
       "      <td>47</td>\n",
       "      <td>-118.510880</td>\n",
       "      <td>NaN</td>\n",
       "      <td>NaN</td>\n",
       "      <td>1950.0</td>\n",
       "      <td>Residential</td>\n",
       "      <td>NaN</td>\n",
       "      <td>2690-003-012</td>\n",
       "      <td>3</td>\n",
       "      <td>0</td>\n",
       "      <td>...</td>\n",
       "      <td>2369</td>\n",
       "      <td>1950</td>\n",
       "      <td>0.079438</td>\n",
       "      <td>1.460660</td>\n",
       "      <td>1997-09-25</td>\n",
       "      <td>0</td>\n",
       "      <td>0</td>\n",
       "      <td>2</td>\n",
       "      <td>3.0</td>\n",
       "      <td>3.0</td>\n",
       "    </tr>\n",
       "    <tr>\n",
       "      <th>6</th>\n",
       "      <td>58</td>\n",
       "      <td>-118.435081</td>\n",
       "      <td>NaN</td>\n",
       "      <td>NaN</td>\n",
       "      <td>1977.0</td>\n",
       "      <td>Residential</td>\n",
       "      <td>NaN</td>\n",
       "      <td>4357-015-006</td>\n",
       "      <td>3</td>\n",
       "      <td>0</td>\n",
       "      <td>...</td>\n",
       "      <td>2644</td>\n",
       "      <td>1977</td>\n",
       "      <td>0.046179</td>\n",
       "      <td>0.760803</td>\n",
       "      <td>2003-08-08</td>\n",
       "      <td>0</td>\n",
       "      <td>0</td>\n",
       "      <td>1</td>\n",
       "      <td>1.0</td>\n",
       "      <td>1.0</td>\n",
       "    </tr>\n",
       "    <tr>\n",
       "      <th>7</th>\n",
       "      <td>64</td>\n",
       "      <td>-118.511546</td>\n",
       "      <td>NaN</td>\n",
       "      <td>NaN</td>\n",
       "      <td>1956.0</td>\n",
       "      <td>Residential</td>\n",
       "      <td>NaN</td>\n",
       "      <td>2766-012-018</td>\n",
       "      <td>5</td>\n",
       "      <td>0</td>\n",
       "      <td>...</td>\n",
       "      <td>3576</td>\n",
       "      <td>1956</td>\n",
       "      <td>0.176879</td>\n",
       "      <td>2.154601</td>\n",
       "      <td>1997-10-03</td>\n",
       "      <td>0</td>\n",
       "      <td>0</td>\n",
       "      <td>2</td>\n",
       "      <td>1.0</td>\n",
       "      <td>1.0</td>\n",
       "    </tr>\n",
       "    <tr>\n",
       "      <th>8</th>\n",
       "      <td>102</td>\n",
       "      <td>-118.511540</td>\n",
       "      <td>NaN</td>\n",
       "      <td>NaN</td>\n",
       "      <td>1961.0</td>\n",
       "      <td>Residential</td>\n",
       "      <td>NaN</td>\n",
       "      <td>2768-022-022</td>\n",
       "      <td>5</td>\n",
       "      <td>0</td>\n",
       "      <td>...</td>\n",
       "      <td>2981</td>\n",
       "      <td>1961</td>\n",
       "      <td>0.190678</td>\n",
       "      <td>2.786298</td>\n",
       "      <td>NaT</td>\n",
       "      <td>0</td>\n",
       "      <td>0</td>\n",
       "      <td>2</td>\n",
       "      <td>1.0</td>\n",
       "      <td>1.0</td>\n",
       "    </tr>\n",
       "    <tr>\n",
       "      <th>9</th>\n",
       "      <td>122</td>\n",
       "      <td>-118.437277</td>\n",
       "      <td>NaN</td>\n",
       "      <td>NaN</td>\n",
       "      <td>1961.0</td>\n",
       "      <td>Residential</td>\n",
       "      <td>NaN</td>\n",
       "      <td>4357-004-018</td>\n",
       "      <td>2</td>\n",
       "      <td>0</td>\n",
       "      <td>...</td>\n",
       "      <td>1709</td>\n",
       "      <td>1961</td>\n",
       "      <td>0.113921</td>\n",
       "      <td>2.903675</td>\n",
       "      <td>1990-05-24</td>\n",
       "      <td>0</td>\n",
       "      <td>0</td>\n",
       "      <td>5</td>\n",
       "      <td>3.0</td>\n",
       "      <td>3.0</td>\n",
       "    </tr>\n",
       "  </tbody>\n",
       "</table>\n",
       "<p>10 rows × 56 columns</p>\n",
       "</div>"
      ],
      "text/plain": [
       "   fid  center_lon  yearbuilt5  yearbuilt4  yearbuilt1      usetype  \\\n",
       "0    5 -118.434714         NaN         NaN      1961.0  Residential   \n",
       "1    7 -118.509913         NaN         NaN      1948.0  Residential   \n",
       "2    8 -118.434041         NaN         NaN      1981.0  Residential   \n",
       "3   21 -118.437185         NaN         NaN      1926.0  Residential   \n",
       "4   44 -118.511595         NaN         NaN      1952.0  Residential   \n",
       "5   47 -118.510880         NaN         NaN      1950.0  Residential   \n",
       "6   58 -118.435081         NaN         NaN      1977.0  Residential   \n",
       "7   64 -118.511546         NaN         NaN      1956.0  Residential   \n",
       "8  102 -118.511540         NaN         NaN      1961.0  Residential   \n",
       "9  122 -118.437277         NaN         NaN      1961.0  Residential   \n",
       "\n",
       "   yearbuilt2           apn  bedrooms1  bedrooms2  ...  sqft_total  \\\n",
       "0         NaN  4357-015-017          3          0  ...        2370   \n",
       "1         NaN  2690-001-025          3          0  ...        1969   \n",
       "2         NaN  4357-009-014          4          0  ...        6180   \n",
       "3         NaN  4357-011-006          7          0  ...        6406   \n",
       "4         NaN  2768-018-013          4          0  ...        2773   \n",
       "5         NaN  2690-003-012          3          0  ...        2369   \n",
       "6         NaN  4357-015-006          3          0  ...        2644   \n",
       "7         NaN  2766-012-018          5          0  ...        3576   \n",
       "8         NaN  2768-022-022          5          0  ...        2981   \n",
       "9         NaN  4357-004-018          2          0  ...        1709   \n",
       "\n",
       "   yearbuilt_avg  built_to_land estimated_density_per_acre last_sold_date  \\\n",
       "0           1961       0.173059                   3.180789     1974-10-18   \n",
       "1           1948       0.071572                   1.583370            NaT   \n",
       "2           1981       0.032764                   0.230936     2019-10-07   \n",
       "3           1926       0.038333                   0.260656     1996-07-15   \n",
       "4           1952       0.146416                   2.299997     1999-10-28   \n",
       "5           1950       0.079438                   1.460660     1997-09-25   \n",
       "6           1977       0.046179                   0.760803     2003-08-08   \n",
       "7           1956       0.176879                   2.154601     1997-10-03   \n",
       "8           1961       0.190678                   2.786298            NaT   \n",
       "9           1961       0.113921                   2.903675     1990-05-24   \n",
       "\n",
       "   sold_14_19  built_14_19  landlord_type  n_ll_properties  n_ll_units  \n",
       "0           0            0              2              1.0         1.0  \n",
       "1           0            0              2              3.0         3.0  \n",
       "2           1            0              2              4.0        12.0  \n",
       "3           0            0              1              1.0         1.0  \n",
       "4           0            0              2              1.0         1.0  \n",
       "5           0            0              2              3.0         3.0  \n",
       "6           0            0              1              1.0         1.0  \n",
       "7           0            0              2              1.0         1.0  \n",
       "8           0            0              2              1.0         1.0  \n",
       "9           0            0              5              3.0         3.0  \n",
       "\n",
       "[10 rows x 56 columns]"
      ]
     },
     "execution_count": 26,
     "metadata": {},
     "output_type": "execute_result"
    }
   ],
   "source": [
    "parcelsdf=parcelsdf.join(llaggdf, how='left', on='mailaddress')\n",
    "\n",
    "parcelsdf.head(10)\n"
   ]
  },
  {
   "cell_type": "code",
   "execution_count": 27,
   "id": "fbdecab9",
   "metadata": {},
   "outputs": [
    {
     "data": {
      "text/plain": [
       "0    650484\n",
       "1     54750\n",
       "Name: landlord_iscorp, dtype: int64"
      ]
     },
     "execution_count": 27,
     "metadata": {},
     "output_type": "execute_result"
    }
   ],
   "source": [
    "#We also need a bool indicator of the corporate status for regression\n",
    "\n",
    "parcelsdf['landlord_iscorp']=parcelsdf.landlord_type.apply(lambda x:1 if x>2 else 0)\n",
    "\n",
    "parcelsdf.landlord_iscorp.value_counts()"
   ]
  },
  {
   "cell_type": "markdown",
   "id": "82162c2b",
   "metadata": {},
   "source": [
    "Now, we will turn to assigning neighborhood characteristics for the parcels in question, using census data from the ACS acquired through cenpy's API tool. Index of tables https://www2.census.gov/programs-surveys/acs/tech_docs/table_shells/2019/"
   ]
  },
  {
   "cell_type": "code",
   "execution_count": 28,
   "id": "ffeedbca",
   "metadata": {},
   "outputs": [],
   "source": [
    "import requests\n",
    "import cenpy\n",
    "from cenpy import products\n",
    "\n",
    "acs19=cenpy.products.ACS(2019)"
   ]
  },
  {
   "cell_type": "code",
   "execution_count": 29,
   "id": "eec7e999",
   "metadata": {},
   "outputs": [],
   "source": [
    "vars_to_download_19 = {\n",
    "    \"B25064_001E\": \"median_rent_2019\",\n",
    "    \"B25077_001E\": \"median_value_2019\",\n",
    "    \"B03002_001E\": \"total_pop_2019\",\n",
    "    \"B03002_003E\": \"white_2019\",\n",
    "    \"B03002_004E\": \"black_2019\",\n",
    "    \"B03002_012E\": \"latx_2019\",\n",
    "    \"B25003_001E\": \"housing_occupied_2019\",\n",
    "    \"B25003_003E\": \"housing_rented_2019\",\n",
    "    \"B09019_007E\": \"hh_female_head_2019\",\n",
    "    \"B09019_001E\": \"hh_total_2019\",\n",
    "    \"B15003_001E\": \"educ_all_2019\",\n",
    "    \"B15003_015E\": \"educ_bachelors_2019\",\n",
    "    \"B15003_016E\": \"educ_masters_2019\",\n",
    "    \"B15003_017E\": \"educ_professional_2019\",\n",
    "    \"B15003_018E\": \"educ_doctoral_2019\", \n",
    "    \"B19013_001E\": \"median_income_2019\",\n",
    "    \"B23025_003E\": \"civ_laborforce_2019\",\n",
    "    \"B23025_005E\": \"civ_unemployed_2019\",\n",
    "    \"B17001_001E\": \"pov_all_2019\",\n",
    "    \"B17001_002E\": \"pov_extreme_2019\",\n",
    "    \"B17001_003E\": \"pov_severe_2019\",\n",
    "    \"B17001_004E\": \"pov_in_2019\",\n",
    "    \"B11005_001E\": \"hh_kids_all_2019\",\n",
    "    \"B11005_002E\": \"hh_kids_yes_2019\",\n",
    "    \"B25002_001E\": \"units_all_2019\",\n",
    "    \"B25002_003E\": \"units_vacant_2019\"\n",
    "    \n",
    "}\n",
    "vars_to_download_l_19 = list(vars_to_download_19.keys())"
   ]
  },
  {
   "cell_type": "code",
   "execution_count": null,
   "id": "9c76ad14",
   "metadata": {},
   "outputs": [
    {
     "name": "stderr",
     "output_type": "stream",
     "text": [
      "/Applications/anaconda3/envs/UP299/lib/python3.8/site-packages/pyproj/crs/crs.py:53: FutureWarning: '+init=<authority>:<code>' syntax is deprecated. '<authority>:<code>' is the preferred initialization method. When making the change, be mindful of axis order changes: https://pyproj4.github.io/pyproj/stable/gotchas.html#axis-order-changes-in-proj-6\n",
      "  return _prepare_from_string(\" \".join(pjargs))\n"
     ]
    }
   ],
   "source": [
    "tracts19gdf=products.ACS(2019).from_county('Los Angeles, CA',level='tract',variables=vars_to_download_l_19)"
   ]
  },
  {
   "cell_type": "code",
   "execution_count": null,
   "id": "342f9d75",
   "metadata": {},
   "outputs": [],
   "source": [
    "print(tracts19gdf.head(10))"
   ]
  },
  {
   "cell_type": "code",
   "execution_count": null,
   "id": "d63d39d6",
   "metadata": {},
   "outputs": [],
   "source": [
    "tracts19gdf=tracts19gdf.rename(columns=vars_to_download_19)\n",
    "print(tracts19gdf.columns.unique())"
   ]
  },
  {
   "cell_type": "code",
   "execution_count": null,
   "id": "final-resolution",
   "metadata": {},
   "outputs": [],
   "source": [
    "tracts19gdf.columns\n",
    "columns19 = ['total_pop_2019', 'white_2019', 'black_2019',\n",
    "       'latx_2019', 'hh_total_2019', 'hh_female_head_2019', 'hh_kids_all_2019',\n",
    "       'hh_kids_yes_2019', 'educ_all_2019', 'educ_bachelors_2019',\n",
    "       'educ_masters_2019', 'educ_professional_2019', 'educ_doctoral_2019',\n",
    "       'pov_all_2019', 'pov_extreme_2019', 'pov_severe_2019', 'pov_in_2019',\n",
    "       'median_income_2019', 'civ_laborforce_2019', 'civ_unemployed_2019',\n",
    "       'units_all_2019', 'units_vacant_2019', 'housing_occupied_2019',\n",
    "       'housing_rented_2019', 'median_rent_2019', 'median_value_2019']\n",
    "tracts19gdf[tracts19gdf[columns19] < 0]=np.nan\n",
    "tracts19gdf.head(10)"
   ]
  },
  {
   "cell_type": "code",
   "execution_count": null,
   "id": "410de3d9",
   "metadata": {},
   "outputs": [],
   "source": [
    "tracts19gdf.dtypes"
   ]
  },
  {
   "cell_type": "code",
   "execution_count": null,
   "id": "f623dc43",
   "metadata": {},
   "outputs": [],
   "source": [
    "tracts19gdf['part_black_2019']=(tracts19gdf['black_2019']/tracts19gdf['total_pop_2019'])*100\n",
    "tracts19gdf['part_latx_2019']=(tracts19gdf['latx_2019']/tracts19gdf['total_pop_2019'])*100\n",
    "tracts19gdf['part_white_2019']=(tracts19gdf['white_2019']/tracts19gdf['total_pop_2019'])*100\n",
    "tracts19gdf['part_female_head_2019']=(tracts19gdf['hh_female_head_2019']/tracts19gdf['hh_total_2019'])*100\n",
    "tracts19gdf['part_hh_kids_2019']=(tracts19gdf['hh_kids_yes_2019']/tracts19gdf['hh_kids_all_2019'])*100\n",
    "tracts19gdf['part_rented_2019']=(tracts19gdf['housing_rented_2019']/tracts19gdf['housing_occupied_2019'])*100\n",
    "tracts19gdf['part_unemployed_2019']=(tracts19gdf['civ_unemployed_2019']/tracts19gdf['civ_laborforce_2019'])*100\n",
    "tracts19gdf['part_poverty_2019']=((tracts19gdf['pov_in_2019']+tracts19gdf['pov_severe_2019']+tracts19gdf['pov_extreme_2019'])/tracts19gdf['pov_all_2019'])*100\n",
    "tracts19gdf['part_vacant_2019']=(tracts19gdf['units_vacant_2019']/tracts19gdf['units_all_2019'])*100\n",
    "tracts19gdf['part_college_2019']=((tracts19gdf['educ_bachelors_2019']+tracts19gdf['educ_masters_2019']+tracts19gdf['educ_doctoral_2019']+tracts19gdf['educ_professional_2019'])/tracts19gdf['educ_all_2019'])*100\n",
    "\n",
    "tracts19gdf.head(10)\n"
   ]
  },
  {
   "cell_type": "markdown",
   "id": "a29feb12",
   "metadata": {},
   "source": [
    "Beacuse cenpy does not offer a prepackaged ACS 14 prodcut, we used their remote api connection query framework to download the same data for LA County tracts for that year, to be joined via tract ID. Variables identified here https://api.census.gov/data/2014/acs/acs5/variables.html."
   ]
  },
  {
   "cell_type": "code",
   "execution_count": null,
   "id": "5e6fe173",
   "metadata": {},
   "outputs": [],
   "source": [
    "vars_to_download_14 = {\n",
    "    \"B25064_001E\": \"median_rent_2014\",\n",
    "    \"B25077_001E\": \"median_value_2014\",\n",
    "    \"B03002_001E\": \"total_pop_2014\",\n",
    "    \"B03002_003E\": \"white_2014\",\n",
    "    \"B03002_004E\": \"black_2014\",\n",
    "    \"B03002_012E\": \"latx_2014\",\n",
    "    \"B25003_001E\": \"housing_occupied_2014\",\n",
    "    \"B25003_003E\": \"housing_rented_2014\",\n",
    "    \"B09019_007E\": \"hh_female_head_2014\",\n",
    "    \"B09019_001E\": \"hh_total_2014\",\n",
    "    \"B15003_001E\": \"educ_all_2014\",\n",
    "    \"B15003_015E\": \"educ_bachelors_2014\",\n",
    "    \"B15003_016E\": \"educ_masters_2014\",\n",
    "    \"B15003_017E\": \"educ_professional_2014\",\n",
    "    \"B15003_018E\": \"educ_doctoral_2014\", \n",
    "    \"B19013_001E\": \"median_income_2014\",\n",
    "    \"B23025_003E\": \"civ_laborforce_2014\",\n",
    "    \"B23025_005E\": \"civ_unemployed_2014\",\n",
    "    \"B17001_001E\": \"pov_all_2014\",\n",
    "    \"B17001_002E\": \"pov_extreme_2014\",\n",
    "    \"B17001_003E\": \"pov_severe_2014\",\n",
    "    \"B17001_004E\": \"pov_in_2014\",\n",
    "    \"B11005_001E\": \"hh_kids_all_2014\",\n",
    "    \"B11005_002E\": \"hh_kids_yes_2014\",\n",
    "    \"B25002_001E\": \"units_all_2014\",\n",
    "    \"B25002_003E\": \"units_vacant_2014\"\n",
    "    \n",
    "}\n",
    "vars_to_download_l_14 = list(vars_to_download_14.keys())"
   ]
  },
  {
   "cell_type": "code",
   "execution_count": null,
   "id": "2b2ccc2c",
   "metadata": {},
   "outputs": [],
   "source": [
    "alist=list(cenpy.explorer.available().index.unique())"
   ]
  },
  {
   "cell_type": "code",
   "execution_count": null,
   "id": "ea22e3dc",
   "metadata": {},
   "outputs": [],
   "source": [
    "with pd.option_context('display.max_rows', None, 'display.max_columns', None):\n",
    "    print(alist)"
   ]
  },
  {
   "cell_type": "code",
   "execution_count": null,
   "id": "2795fac1",
   "metadata": {},
   "outputs": [],
   "source": [
    "conn=cenpy.remote.APIConnection('ACSDT5Y2014')"
   ]
  },
  {
   "cell_type": "code",
   "execution_count": null,
   "id": "93c9dd20",
   "metadata": {},
   "outputs": [],
   "source": [
    "tracts14df=cenpy.remote.APIConnection.query(conn,cols=vars_to_download_l_14, geo_unit='tract:*', geo_filter={'state':'06','county':'037'})"
   ]
  },
  {
   "cell_type": "code",
   "execution_count": null,
   "id": "59f4986e",
   "metadata": {},
   "outputs": [],
   "source": [
    "tracts14df.head()"
   ]
  },
  {
   "cell_type": "code",
   "execution_count": null,
   "id": "209a00d1",
   "metadata": {},
   "outputs": [],
   "source": [
    "tracts14df=tracts14df.rename(columns=vars_to_download_14)\n",
    "tracts14df.head()"
   ]
  },
  {
   "cell_type": "code",
   "execution_count": null,
   "id": "180703fa",
   "metadata": {},
   "outputs": [],
   "source": [
    "tracts14df=tracts14df.astype(int)\n",
    "tracts14df.dtypes"
   ]
  },
  {
   "cell_type": "code",
   "execution_count": null,
   "id": "elementary-plumbing",
   "metadata": {},
   "outputs": [],
   "source": [
    "tracts14df.columns"
   ]
  },
  {
   "cell_type": "code",
   "execution_count": null,
   "id": "conventional-publication",
   "metadata": {},
   "outputs": [],
   "source": [
    "import numpy as np"
   ]
  },
  {
   "cell_type": "code",
   "execution_count": null,
   "id": "union-expansion",
   "metadata": {},
   "outputs": [],
   "source": [
    "columns14 = ['median_rent_2014', 'median_value_2014', 'total_pop_2014', 'white_2014',\n",
    "       'black_2014', 'latx_2014', 'housing_occupied_2014',\n",
    "       'housing_rented_2014', 'hh_female_head_2014', 'hh_total_2014',\n",
    "       'educ_all_2014', 'educ_bachelors_2014', 'educ_masters_2014',\n",
    "       'educ_professional_2014', 'educ_doctoral_2014', 'median_income_2014',\n",
    "       'civ_laborforce_2014', 'civ_unemployed_2014', 'pov_all_2014',\n",
    "       'pov_extreme_2014', 'pov_severe_2014', 'pov_in_2014',\n",
    "       'hh_kids_all_2014', 'hh_kids_yes_2014', 'units_all_2014',\n",
    "       'units_vacant_2014']\n",
    "tracts14df[tracts14df[columns14] < 0]=np.nan"
   ]
  },
  {
   "cell_type": "code",
   "execution_count": null,
   "id": "coastal-restaurant",
   "metadata": {},
   "outputs": [],
   "source": [
    "tracts14df.head(10)"
   ]
  },
  {
   "cell_type": "code",
   "execution_count": null,
   "id": "577df77f",
   "metadata": {},
   "outputs": [],
   "source": [
    "tracts14df['part_black_2014']=(tracts14df['black_2014']/tracts14df['total_pop_2014'])*100\n",
    "tracts14df['part_latx_2014']=(tracts14df['latx_2014']/tracts14df['total_pop_2014'])*100\n",
    "tracts14df['part_white_2014']=(tracts14df['white_2014']/tracts14df['total_pop_2014'])*100\n",
    "tracts14df['part_female_head_2014']=(tracts14df['hh_female_head_2014']/tracts14df['hh_total_2014'])*100\n",
    "tracts14df['part_hh_kids_2014']=(tracts14df['hh_kids_yes_2014']/tracts14df['hh_kids_all_2014'])*100\n",
    "tracts14df['part_rented_2014']=(tracts14df['housing_rented_2014']/tracts14df['housing_occupied_2014'])*100\n",
    "tracts14df['part_unemployed_2014']=(tracts14df['civ_unemployed_2014']/tracts14df['civ_laborforce_2014'])*100\n",
    "tracts14df['part_poverty_2014']=((tracts14df['pov_in_2014']+tracts14df['pov_severe_2014']+tracts14df['pov_extreme_2014'])/tracts14df['pov_all_2014'])*100\n",
    "tracts14df['part_vacant_2014']=(tracts14df['units_vacant_2014']/tracts14df['units_all_2014'])*100\n",
    "tracts14df['part_college_2014']=((tracts14df['educ_bachelors_2014']+tracts14df['educ_masters_2014']+tracts14df['educ_doctoral_2014']+tracts14df['educ_professional_2014'])/tracts14df['educ_all_2014'])*100\n",
    "\n",
    "tracts14df.head(10)"
   ]
  },
  {
   "cell_type": "code",
   "execution_count": null,
   "id": "44b49f30",
   "metadata": {},
   "outputs": [],
   "source": [
    "tracts19gdf['tract']=tracts19gdf['tract'].astype(int)\n",
    "tracts19gdf.dtypes"
   ]
  },
  {
   "cell_type": "code",
   "execution_count": null,
   "id": "407f8dc2",
   "metadata": {},
   "outputs": [],
   "source": [
    "tracts19gdf=tracts19gdf.set_index('tract')\n",
    "tracts14df=tracts14df.set_index('tract')\n",
    "\n",
    "joinedtractsgdf=tracts19gdf.join(tracts14df, on='tract', how='left', rsuffix='_14')\n",
    "\n",
    "#joinedtractsgdf[joinedtractsgdf < 0]=np.nan\n",
    "\n",
    "with pd.option_context('display.max_rows', None, 'display.max_columns', None):\n",
    "    print(joinedtractsgdf.columns)\n"
   ]
  },
  {
   "cell_type": "code",
   "execution_count": null,
   "id": "light-consortium",
   "metadata": {},
   "outputs": [],
   "source": [
    "joinedtractsgdf=joinedtractsgdf.fillna(joinedtractsgdf.mean())\n",
    "\n",
    "joinedtractsgdf.head(10)"
   ]
  },
  {
   "cell_type": "code",
   "execution_count": null,
   "id": "2da6b8d7",
   "metadata": {},
   "outputs": [],
   "source": [
    "joinedtractsgdf.dtypes"
   ]
  },
  {
   "cell_type": "code",
   "execution_count": null,
   "id": "b7da9478",
   "metadata": {},
   "outputs": [],
   "source": [
    "joinedtractsgdf['change_rent_14_19']=joinedtractsgdf['median_rent_2019']-joinedtractsgdf['median_rent_2014']\n",
    "joinedtractsgdf['change_value_14_19']=joinedtractsgdf['median_value_2019']-joinedtractsgdf['median_value_2014']\n",
    "joinedtractsgdf['change_part_rented_14_19']=joinedtractsgdf['part_rented_2019']-joinedtractsgdf['part_rented_2014']\n",
    "joinedtractsgdf['change_part_white_14_19']=joinedtractsgdf['part_white_2019']-joinedtractsgdf['part_white_2014']\n",
    "joinedtractsgdf['change_part_black_14_19']=joinedtractsgdf['part_black_2019']-joinedtractsgdf['part_black_2014']\n",
    "joinedtractsgdf['change_part_latx_14_19']=joinedtractsgdf['part_latx_2019']-joinedtractsgdf['part_latx_2014']\n",
    "joinedtractsgdf['change_part_college_14_19']=joinedtractsgdf['part_college_2019']-joinedtractsgdf['part_college_2014']\n",
    "joinedtractsgdf['change_part_unemployed_14_19']=joinedtractsgdf['part_unemployed_2019']-joinedtractsgdf['part_unemployed_2014']\n",
    "joinedtractsgdf['change_part_hh_kids_14_19']=joinedtractsgdf['part_hh_kids_2019']-joinedtractsgdf['part_hh_kids_2014']\n",
    "joinedtractsgdf['change_part_female_head_14_19']=joinedtractsgdf['part_female_head_2019']-joinedtractsgdf['part_female_head_2014']\n",
    "joinedtractsgdf['change_part_poverty_14_19']=joinedtractsgdf['part_poverty_2019']-joinedtractsgdf['part_poverty_2014']\n",
    "joinedtractsgdf['change_part_vacant_14_19']=joinedtractsgdf['part_vacant_2019']-joinedtractsgdf['part_vacant_2014']\n",
    "joinedtractsgdf.head(10)"
   ]
  },
  {
   "cell_type": "code",
   "execution_count": null,
   "id": "2a818b24",
   "metadata": {},
   "outputs": [],
   "source": [
    "joinedtractsgdf=joinedtractsgdf.reset_index()\n",
    "joinedtractsgdf.head(10)"
   ]
  },
  {
   "cell_type": "code",
   "execution_count": null,
   "id": "1ca57cd5",
   "metadata": {},
   "outputs": [],
   "source": [
    "import matplotlib.pyplot as plt\n",
    "import contextily as ctx\n",
    "\n",
    "%matplotlib inline\n",
    "\n",
    "fig, ax=plt.subplots(figsize=(20,20))\n",
    "\n",
    "joinedtractsgdf.plot(ax=ax, legend=True)\n",
    "\n",
    "plt.title('LA Census Tracts')\n",
    "\n",
    "ctx.add_basemap(ax,source=ctx.providers.Stamen.TonerLite,zoom=11)\n",
    "\n",
    "ax.set_xticks([])\n",
    "ax.set_yticks([])"
   ]
  },
  {
   "cell_type": "markdown",
   "id": "105545bf",
   "metadata": {},
   "source": [
    "Next, we will join the tract level information to the parcel scale, and generate the relevant proximity metrics."
   ]
  },
  {
   "cell_type": "code",
   "execution_count": null,
   "id": "48694abf",
   "metadata": {},
   "outputs": [],
   "source": [
    "parcelsgdf = gpd.GeoDataFrame(parcelsdf, geometry=gpd.points_from_xy(parcelsdf.center_lon, parcelsdf.center_lat))"
   ]
  },
  {
   "cell_type": "code",
   "execution_count": null,
   "id": "7f18739f",
   "metadata": {},
   "outputs": [],
   "source": [
    "parcelsgdf = parcelsgdf.set_crs(\"EPSG:4326\")\n",
    "\n",
    "parcelsgdf = parcelsgdf.to_crs(\"EPSG:3857\")\n",
    "\n",
    "print(parcelsgdf.crs)"
   ]
  },
  {
   "cell_type": "code",
   "execution_count": null,
   "id": "6b9a4137",
   "metadata": {},
   "outputs": [],
   "source": [
    "#sparcelsgdf is Ellis-ed parcels (parcelsgdf) + [all parcels in LA + census data/demographic predictors (joinedtractsgdf)]\n",
    "sparcelsgdf = gpd.sjoin(parcelsgdf, joinedtractsgdf, how=\"left\", op='intersects',rsuffix=\"_tract\")\n",
    "sparcelsgdf.head()"
   ]
  },
  {
   "cell_type": "code",
   "execution_count": null,
   "id": "nearby-platinum",
   "metadata": {},
   "outputs": [],
   "source": [
    "sparcelsgdf.columns"
   ]
  },
  {
   "cell_type": "code",
   "execution_count": null,
   "id": "average-arcade",
   "metadata": {},
   "outputs": [],
   "source": [
    "fig, ax=plt.subplots(figsize=(20,20))\n",
    "\n",
    "sparcelsgdf.plot(ax=ax, legend=True)\n",
    "\n",
    "plt.title('LA Census Tracts')\n",
    "\n",
    "ctx.add_basemap(ax,source=ctx.providers.Stamen.TonerLite,zoom=11)\n",
    "\n",
    "ax.set_xticks([])\n",
    "ax.set_yticks([])"
   ]
  },
  {
   "cell_type": "code",
   "execution_count": null,
   "id": "comprehensive-torture",
   "metadata": {},
   "outputs": [],
   "source": [
    "#sparcelsgdf['geometry']\n",
    "#sparcels geometry is point data of parcels, not shape data of census tracts"
   ]
  },
  {
   "cell_type": "code",
   "execution_count": null,
   "id": "abstract-oxide",
   "metadata": {},
   "outputs": [],
   "source": [
    "# Save sparcelsgdf to file\n",
    "#sparcelsgdf.to_csv(\"sparcelsgdf.csv\")"
   ]
  },
  {
   "cell_type": "code",
   "execution_count": null,
   "id": "a48c536d",
   "metadata": {},
   "outputs": [],
   "source": [
    "built_14_19gdf=gpd.GeoDataFrame(built_14_19df, geometry=gpd.points_from_xy(built_14_19df.center_lon, built_14_19df.center_lat))\n",
    "sold_14_19gdf=gpd.GeoDataFrame(sold_14_19df, geometry=gpd.points_from_xy(sold_14_19df.center_lon, sold_14_19df.center_lat))\n",
    "\n",
    "built_14_19gdf = built_14_19gdf.set_crs(\"EPSG:4326\")\n",
    "built_14_19gdf = built_14_19gdf.to_crs(\"EPSG:3857\")\n",
    "\n",
    "sold_14_19gdf = sold_14_19gdf.set_crs(\"EPSG:4326\")\n",
    "sold_14_19gdf = sold_14_19gdf.to_crs(\"EPSG:3857\")\n",
    "\n"
   ]
  },
  {
   "cell_type": "code",
   "execution_count": null,
   "id": "palestinian-playing",
   "metadata": {},
   "outputs": [],
   "source": [
    "#built_14_19gdf.to_csv(\"built_14_19gdf.csv\")\n",
    "#sold_14_19gdf.to_csv(\"sold_14_19gdf.csv\")"
   ]
  },
  {
   "cell_type": "code",
   "execution_count": null,
   "id": "13578b95",
   "metadata": {},
   "outputs": [],
   "source": [
    "sparcelsgdf1=sparcelsgdf[pd.isna(sparcelsgdf['hh_total_2019'])]\n",
    "print(len(sparcelsgdf1))"
   ]
  },
  {
   "cell_type": "markdown",
   "id": "195359ac",
   "metadata": {},
   "source": [
    "In order to identify proximity to high rent tracts and fast increasing rent tracts, we identified the 75th percentile value for 2019 rents and change of rents 2014-2019 to create new layers for a distance analysis."
   ]
  },
  {
   "cell_type": "code",
   "execution_count": null,
   "id": "cafdd7c2",
   "metadata": {},
   "outputs": [],
   "source": [
    "joinedtractsgdf['median_rent_2019'].describe()"
   ]
  },
  {
   "cell_type": "code",
   "execution_count": null,
   "id": "bfac1f3a",
   "metadata": {},
   "outputs": [],
   "source": [
    "highrenttractsgdf=joinedtractsgdf[joinedtractsgdf['median_rent_2019']>=1821.750000]"
   ]
  },
  {
   "cell_type": "code",
   "execution_count": null,
   "id": "4384d7c4",
   "metadata": {},
   "outputs": [],
   "source": [
    "joinedtractsgdf['change_rent_14_19'].describe()"
   ]
  },
  {
   "cell_type": "code",
   "execution_count": null,
   "id": "6618edf8",
   "metadata": {},
   "outputs": [],
   "source": [
    "highchangetractsgdf=joinedtractsgdf[sparcelsgdf['change_rent_14_19']>=355.00]"
   ]
  },
  {
   "cell_type": "markdown",
   "id": "interesting-calgary",
   "metadata": {},
   "source": [
    "### Calculating percent of parcels bought and sold in each tract:"
   ]
  },
  {
   "cell_type": "code",
   "execution_count": null,
   "id": "burning-warehouse",
   "metadata": {},
   "outputs": [],
   "source": [
    "built_14_19gdf.head(5)"
   ]
  },
  {
   "cell_type": "code",
   "execution_count": null,
   "id": "found-credit",
   "metadata": {},
   "outputs": [],
   "source": [
    "joinedtractsbuilt = gpd.sjoin(built_14_19gdf, joinedtractsgdf, how=\"left\", op='intersects')\n",
    "joinedtractsbuilt.head()"
   ]
  },
  {
   "cell_type": "code",
   "execution_count": null,
   "id": "regular-dining",
   "metadata": {},
   "outputs": [],
   "source": [
    "joinedtractssold = gpd.sjoin(sold_14_19gdf, joinedtractsgdf, how=\"left\", op='intersects')\n",
    "joinedtractssold.head()"
   ]
  },
  {
   "cell_type": "code",
   "execution_count": null,
   "id": "dangerous-desktop",
   "metadata": {},
   "outputs": [],
   "source": [
    "built1419 = joinedtractsbuilt.groupby('tract')['built_14_19'].apply(lambda x: x[x == True].count())"
   ]
  },
  {
   "cell_type": "code",
   "execution_count": null,
   "id": "miniature-sampling",
   "metadata": {},
   "outputs": [],
   "source": [
    "sold1419 = joinedtractssold.groupby('tract')['sold_14_19'].apply(lambda x: x[x == True].count())"
   ]
  },
  {
   "cell_type": "code",
   "execution_count": null,
   "id": "authentic-announcement",
   "metadata": {
    "scrolled": true
   },
   "outputs": [],
   "source": [
    "joinedtractsgdf = joinedtractsgdf.set_index('tract')\n",
    "joinedtractsgdf"
   ]
  },
  {
   "cell_type": "code",
   "execution_count": null,
   "id": "signal-aggregate",
   "metadata": {},
   "outputs": [],
   "source": [
    "aggDf = pd.DataFrame({'n_built1419': built1419, 'n_sold1419': sold1419})"
   ]
  },
  {
   "cell_type": "code",
   "execution_count": null,
   "id": "passive-situation",
   "metadata": {},
   "outputs": [],
   "source": [
    "joinedbuiltsold = pd.merge(joinedtractsgdf,aggDf, how='left', on='tract')\n",
    "joinedbuiltsold"
   ]
  },
  {
   "cell_type": "code",
   "execution_count": null,
   "id": "prostate-organization",
   "metadata": {},
   "outputs": [],
   "source": [
    "totalparcels = sparcelsgdf.groupby('tract').size()\n",
    "totalparcels"
   ]
  },
  {
   "cell_type": "code",
   "execution_count": null,
   "id": "arctic-monte",
   "metadata": {},
   "outputs": [],
   "source": [
    "joinedbuiltsold['totalparcels'] = totalparcels\n",
    "joinedbuiltsold.head(5)"
   ]
  },
  {
   "cell_type": "code",
   "execution_count": null,
   "id": "approximate-wholesale",
   "metadata": {},
   "outputs": [],
   "source": [
    "joinedbuiltsold['pctbuilt'] = joinedbuiltsold['n_built1419']/joinedbuiltsold['totalparcels']*100\n",
    "joinedbuiltsold['pctsold'] = joinedbuiltsold['n_sold1419']/joinedbuiltsold['totalparcels']*100\n",
    "joinedbuiltsold.head(5)"
   ]
  },
  {
   "cell_type": "code",
   "execution_count": null,
   "id": "polar-boulder",
   "metadata": {
    "scrolled": false
   },
   "outputs": [],
   "source": [
    "joinedbuiltsold = joinedbuiltsold.fillna(0)\n",
    "joinedbuiltsold.head(5)"
   ]
  },
  {
   "cell_type": "code",
   "execution_count": null,
   "id": "equipped-saturn",
   "metadata": {},
   "outputs": [],
   "source": [
    "sparcelsgdf.set_index('ain', inplace=True)"
   ]
  },
  {
   "cell_type": "code",
   "execution_count": null,
   "id": "revolutionary-pension",
   "metadata": {},
   "outputs": [],
   "source": [
    "sparcelsgdf['ain']"
   ]
  },
  {
   "cell_type": "code",
   "execution_count": null,
   "id": "homeless-rescue",
   "metadata": {},
   "outputs": [],
   "source": [
    "def get_closest_tract(row):\n",
    "    parcel = row.geometry\n",
    "    distances = highrenttractsgdf.distance(parcel)\n",
    "    min_dist = distances.min()\n",
    "    return pd.Series([min_dist])\n",
    "\n",
    "sparcelsgdf[['dist_to_nearest_highrenttract']] = sparcelsgdf.apply(get_closest_tract, axis=1)\n",
    "sparcelsgdf.head()\n"
   ]
  },
  {
   "cell_type": "code",
   "execution_count": null,
   "id": "48f9df9a",
   "metadata": {},
   "outputs": [],
   "source": [
    "def get_closest_tract_2(row):\n",
    "    parcel2 = row.geometry\n",
    "    distances2 = highchangetractsgdf.distance(parcel)\n",
    "    min_dist2 = distances.min()\n",
    "    return pd.Series([min_dist2])\n",
    "\n",
    "sparcelsgdf[['dist_to_nearest_highchangetract']] = sparcelsgdf.apply(get_closest_tract_2, axis=1)\n",
    "sparcelsgdf.head()\n"
   ]
  },
  {
   "cell_type": "markdown",
   "id": "07bf7b56",
   "metadata": {},
   "source": [
    "Now we want to create our datasets for the statistical and clustering tests, one of ellis properties with the parcel information joined, and another of all parcels, with an indication of the ellis status."
   ]
  },
  {
   "cell_type": "code",
   "execution_count": null,
   "id": "9546e0df",
   "metadata": {},
   "outputs": [],
   "source": [
    "studyellisdf.dtypes"
   ]
  },
  {
   "cell_type": "code",
   "execution_count": null,
   "id": "3d7e520d",
   "metadata": {},
   "outputs": [],
   "source": [
    "studyellisdf=studyellisdf.set_index('ain')\n",
    "sparcelgsdf=sparcelsgdf.set_index('ain')\n",
    "\n",
    "parcelsjoindf=sparcelsgdf.join(studyellisdf, on='ain', how='left', rsuffix='_ellis')\n",
    "\n",
    "parcelsjoindf.head()"
   ]
  },
  {
   "cell_type": "code",
   "execution_count": null,
   "id": "f7692d25",
   "metadata": {},
   "outputs": [],
   "source": [
    "parcelsjoindf1=parcelsjoindf[pd.isna(parcelsjoindf['units_withdrawn'])]\n",
    "print(len(parcelsjoindf1))"
   ]
  },
  {
   "cell_type": "code",
   "execution_count": null,
   "id": "650702bc",
   "metadata": {},
   "outputs": [],
   "source": [
    "parcelsjoindf2=parcelsjoindf[pd.notna(parcelsjoindf['units_withdrawn'])]\n",
    "print(len(parcelsjoindf2))"
   ]
  },
  {
   "cell_type": "code",
   "execution_count": null,
   "id": "0f6e2790",
   "metadata": {},
   "outputs": [],
   "source": [
    "parcelsjoindf3=parcelsjoindf[parcelsjoindf['units_total']>1]\n",
    "\n",
    "parcelsjoindf4=parcelsjoindf3[parcelsjoindf3['yearbuilt_avg']<1979]\n",
    "\n",
    "print(len(parcelsjoindf4))"
   ]
  },
  {
   "cell_type": "code",
   "execution_count": null,
   "id": "f86b29c2",
   "metadata": {},
   "outputs": [],
   "source": [
    "parcelsjoindf5=parcelsjoindf4[pd.notna(parcelsjoindf4['units_withdrawn'])]\n",
    "\n",
    "print(len(parcelsjoindf5))"
   ]
  },
  {
   "cell_type": "code",
   "execution_count": null,
   "id": "beae7409",
   "metadata": {},
   "outputs": [],
   "source": [
    "ellisjoindf = studyellisdf.join(parcelsdf, on='ain', how='left', rsuffix='parcel')\n",
    "\n",
    "ellisjoindf.head()"
   ]
  },
  {
   "cell_type": "markdown",
   "id": "52b9a41f",
   "metadata": {},
   "source": [
    "With our Ellis datset, we will also want to create a new field that takes the difference between the filing date and the last sale date for the property. Thereby we can filter out negative diffs (landlord no longer owns property) and study the difference in neighborhood conditions in changing filing times."
   ]
  },
  {
   "cell_type": "code",
   "execution_count": null,
   "id": "6abbea04",
   "metadata": {},
   "outputs": [],
   "source": [
    "ellisjoindf['time_to_file']=ellisjoindf['application_date']-ellisjoindf['last_sold_date']\n",
    "ellisjoindf['time_to_file']=ellisjoindf['time_to_file'].astype('timedelta64[D]')"
   ]
  },
  {
   "cell_type": "code",
   "execution_count": null,
   "id": "5c4b433e",
   "metadata": {},
   "outputs": [],
   "source": [
    "ellisjoindf.head()"
   ]
  },
  {
   "cell_type": "code",
   "execution_count": null,
   "id": "9da59e50",
   "metadata": {},
   "outputs": [],
   "source": [
    "ellisjoindf.dtypes"
   ]
  },
  {
   "cell_type": "markdown",
   "id": "8c865cf4",
   "metadata": {},
   "source": [
    "Now we'll want to check and see to waht extent parcels have been built since an Ellis Filing, and to what extent they have been sold since the filing, which will determine whether or not the record can remain in the sample. "
   ]
  },
  {
   "cell_type": "code",
   "execution_count": null,
   "id": "dea416bc",
   "metadata": {},
   "outputs": [],
   "source": [
    "ellisjoindf.yearbuilt_avg.unique()"
   ]
  },
  {
   "cell_type": "code",
   "execution_count": null,
   "id": "5644783e",
   "metadata": {},
   "outputs": [],
   "source": [
    "with pd.option_context('display.max_rows', None, 'display.max_columns', None):\n",
    "    print(ellisjoindf.time_to_file.value_counts())"
   ]
  },
  {
   "cell_type": "code",
   "execution_count": null,
   "id": "c85b7ca0",
   "metadata": {},
   "outputs": [],
   "source": [
    "print(len(ellisjoindf))"
   ]
  },
  {
   "cell_type": "code",
   "execution_count": null,
   "id": "a7cea5a6",
   "metadata": {},
   "outputs": [],
   "source": [
    "ellisjoindf1=ellisjoindf[ellisjoindf['time_to_file']>-1]\n",
    "print(len(ellisjoindf1))"
   ]
  },
  {
   "cell_type": "code",
   "execution_count": null,
   "id": "875e858c",
   "metadata": {},
   "outputs": [],
   "source": [
    "ellisjoindf2=ellisjoindf1[ellisjoindf1['landlord_type']>0]\n",
    "print(len(ellisjoindf2))"
   ]
  },
  {
   "cell_type": "code",
   "execution_count": null,
   "id": "41a19900",
   "metadata": {},
   "outputs": [],
   "source": []
  }
 ],
 "metadata": {
  "kernelspec": {
   "display_name": "Python 3",
   "language": "python",
   "name": "python3"
  },
  "language_info": {
   "codemirror_mode": {
    "name": "ipython",
    "version": 3
   },
   "file_extension": ".py",
   "mimetype": "text/x-python",
   "name": "python",
   "nbconvert_exporter": "python",
   "pygments_lexer": "ipython3",
   "version": "3.8.8"
  }
 },
 "nbformat": 4,
 "nbformat_minor": 5
}
