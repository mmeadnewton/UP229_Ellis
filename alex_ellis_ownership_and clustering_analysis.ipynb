{
 "cells": [
  {
   "cell_type": "markdown",
   "id": "571f5abe",
   "metadata": {},
   "source": [
    "Import ellis_joined, from kernel in preceeding notebook which details the cleaning and joing process.\n",
    "\n",
    "We are now going to use another assessor's dataset from 2019, and concern ourselves with the period of 2014-2019 in particuar in order to study the determinants of the ellis act on the property level during this period of intensive use.\n",
    "\n",
    "Datasets:\n",
    "\n",
    "Ellis Act Filing Records 2007- Present (May 2021): https://hcidla2.lacity.org/ELLIS - base dataset, now joined, see previous notebook - we will be extracting data from years 2015-2019 for this study. \n",
    "\n",
    "Census tract level demographic and econmoic data: ACS 5 Years 2014 and 2019 from census api through cenpy. Index of tables https://www2.census.gov/programs-surveys/acs/tech_docs/table_shells/2019/\n",
    "\n",
    "Los Angeles County Assessors Parcel Records (2019): Purchased by SAJE, used with permissions - used to identify current parcel status and ownership for entity type sample - GEOJSON export including selected columns for LA city parcels from SAJE owned geopackage. We will be using this to identify owners at the time of filing, as well as to identify a preceeding sale"
   ]
  },
  {
   "cell_type": "code",
   "execution_count": 1,
   "id": "10592559",
   "metadata": {},
   "outputs": [],
   "source": [
    "#Import modules: pandas/geopandas\n",
    "import pandas as pd\n",
    "import geopandas as gpd"
   ]
  },
  {
   "cell_type": "code",
   "execution_count": 2,
   "id": "93e14acc",
   "metadata": {},
   "outputs": [
    {
     "data": {
      "text/html": [
       "<div>\n",
       "<style scoped>\n",
       "    .dataframe tbody tr th:only-of-type {\n",
       "        vertical-align: middle;\n",
       "    }\n",
       "\n",
       "    .dataframe tbody tr th {\n",
       "        vertical-align: top;\n",
       "    }\n",
       "\n",
       "    .dataframe thead th {\n",
       "        text-align: right;\n",
       "    }\n",
       "</style>\n",
       "<table border=\"1\" class=\"dataframe\">\n",
       "  <thead>\n",
       "    <tr style=\"text-align: right;\">\n",
       "      <th></th>\n",
       "      <th>Unnamed: 0</th>\n",
       "      <th>application_received</th>\n",
       "      <th>application_year</th>\n",
       "      <th>council_district</th>\n",
       "      <th>address</th>\n",
       "      <th>city</th>\n",
       "      <th>zip</th>\n",
       "      <th>units_withdrawn</th>\n",
       "      <th>replacement_unit</th>\n",
       "      <th>yearbuilt</th>\n",
       "      <th>units</th>\n",
       "      <th>sqftmain</th>\n",
       "      <th>center_lat</th>\n",
       "      <th>center_lon</th>\n",
       "      <th>geometry</th>\n",
       "    </tr>\n",
       "  </thead>\n",
       "  <tbody>\n",
       "    <tr>\n",
       "      <th>0</th>\n",
       "      <td>2040031029</td>\n",
       "      <td>11/6/19</td>\n",
       "      <td>2019</td>\n",
       "      <td>3</td>\n",
       "      <td>22729 W DEL VALLE ST</td>\n",
       "      <td>LOS ANGELES</td>\n",
       "      <td>91364.0</td>\n",
       "      <td>3</td>\n",
       "      <td>0.0</td>\n",
       "      <td>1955.0</td>\n",
       "      <td>3.0</td>\n",
       "      <td>1860.0</td>\n",
       "      <td>34.165880</td>\n",
       "      <td>-118.621319</td>\n",
       "      <td>POINT (-13204864.81828771 4051097.450097568)</td>\n",
       "    </tr>\n",
       "    <tr>\n",
       "      <th>1</th>\n",
       "      <td>2040031030</td>\n",
       "      <td>12/4/19</td>\n",
       "      <td>2019</td>\n",
       "      <td>3</td>\n",
       "      <td>22727 W DEL VALLE ST</td>\n",
       "      <td>WOODLAND HILLS</td>\n",
       "      <td>91364.0</td>\n",
       "      <td>3</td>\n",
       "      <td>0.0</td>\n",
       "      <td>1955.0</td>\n",
       "      <td>3.0</td>\n",
       "      <td>1869.0</td>\n",
       "      <td>34.165929</td>\n",
       "      <td>-118.621164</td>\n",
       "      <td>POINT (-13204847.61386041 4051104.006178072)</td>\n",
       "    </tr>\n",
       "    <tr>\n",
       "      <th>2</th>\n",
       "      <td>2040033033</td>\n",
       "      <td>2/10/16</td>\n",
       "      <td>2016</td>\n",
       "      <td>3</td>\n",
       "      <td>22431 W DEL VALLE ST</td>\n",
       "      <td>WOODLAND HILLS</td>\n",
       "      <td>91364.0</td>\n",
       "      <td>3</td>\n",
       "      <td>0.0</td>\n",
       "      <td>1955.0</td>\n",
       "      <td>3.0</td>\n",
       "      <td>1869.0</td>\n",
       "      <td>34.167389</td>\n",
       "      <td>-118.616525</td>\n",
       "      <td>POINT (-13204331.1860447 4051300.523521864)</td>\n",
       "    </tr>\n",
       "    <tr>\n",
       "      <th>3</th>\n",
       "      <td>2107014004</td>\n",
       "      <td>4/21/20</td>\n",
       "      <td>2020</td>\n",
       "      <td>3</td>\n",
       "      <td>20327 W STAGG ST</td>\n",
       "      <td>LOS ANGELES</td>\n",
       "      <td>91306.0</td>\n",
       "      <td>3</td>\n",
       "      <td>0.0</td>\n",
       "      <td>1910.0</td>\n",
       "      <td>3.0</td>\n",
       "      <td>2446.0</td>\n",
       "      <td>34.211389</td>\n",
       "      <td>-118.576350</td>\n",
       "      <td>POINT (-13199858.95667153 4057221.803746735)</td>\n",
       "    </tr>\n",
       "    <tr>\n",
       "      <th>4</th>\n",
       "      <td>2111025021</td>\n",
       "      <td>3/16/16</td>\n",
       "      <td>2016</td>\n",
       "      <td>3</td>\n",
       "      <td>7118 N JORDAN AVE</td>\n",
       "      <td>CANOGA PARK</td>\n",
       "      <td>91303.0</td>\n",
       "      <td>2</td>\n",
       "      <td>9.0</td>\n",
       "      <td>1947.0</td>\n",
       "      <td>2.0</td>\n",
       "      <td>1489.0</td>\n",
       "      <td>34.199760</td>\n",
       "      <td>-118.602505</td>\n",
       "      <td>POINT (-13202770.5034817 4055656.567431433)</td>\n",
       "    </tr>\n",
       "  </tbody>\n",
       "</table>\n",
       "</div>"
      ],
      "text/plain": [
       "   Unnamed: 0 application_received  application_year  council_district  \\\n",
       "0  2040031029              11/6/19              2019                 3   \n",
       "1  2040031030              12/4/19              2019                 3   \n",
       "2  2040033033              2/10/16              2016                 3   \n",
       "3  2107014004              4/21/20              2020                 3   \n",
       "4  2111025021              3/16/16              2016                 3   \n",
       "\n",
       "                address             city      zip  units_withdrawn  \\\n",
       "0  22729 W DEL VALLE ST     LOS ANGELES   91364.0                3   \n",
       "1  22727 W DEL VALLE ST  WOODLAND HILLS   91364.0                3   \n",
       "2  22431 W DEL VALLE ST  WOODLAND HILLS   91364.0                3   \n",
       "3      20327 W STAGG ST     LOS ANGELES   91306.0                3   \n",
       "4     7118 N JORDAN AVE     CANOGA PARK   91303.0                2   \n",
       "\n",
       "   replacement_unit  yearbuilt  units  sqftmain  center_lat  center_lon  \\\n",
       "0               0.0     1955.0    3.0    1860.0   34.165880 -118.621319   \n",
       "1               0.0     1955.0    3.0    1869.0   34.165929 -118.621164   \n",
       "2               0.0     1955.0    3.0    1869.0   34.167389 -118.616525   \n",
       "3               0.0     1910.0    3.0    2446.0   34.211389 -118.576350   \n",
       "4               9.0     1947.0    2.0    1489.0   34.199760 -118.602505   \n",
       "\n",
       "                                       geometry  \n",
       "0  POINT (-13204864.81828771 4051097.450097568)  \n",
       "1  POINT (-13204847.61386041 4051104.006178072)  \n",
       "2   POINT (-13204331.1860447 4051300.523521864)  \n",
       "3  POINT (-13199858.95667153 4057221.803746735)  \n",
       "4   POINT (-13202770.5034817 4055656.567431433)  "
      ]
     },
     "execution_count": 2,
     "metadata": {},
     "output_type": "execute_result"
    }
   ],
   "source": [
    "ellisdf=pd.read_csv('/Users/alexanderferrer/Documents/GitHub/UP229_Ellis/ellis_joined.csv')\n",
    "\n",
    "ellisdf.head()"
   ]
  },
  {
   "cell_type": "code",
   "execution_count": 3,
   "id": "fa5c8178",
   "metadata": {},
   "outputs": [
    {
     "data": {
      "text/html": [
       "<div>\n",
       "<style scoped>\n",
       "    .dataframe tbody tr th:only-of-type {\n",
       "        vertical-align: middle;\n",
       "    }\n",
       "\n",
       "    .dataframe tbody tr th {\n",
       "        vertical-align: top;\n",
       "    }\n",
       "\n",
       "    .dataframe thead th {\n",
       "        text-align: right;\n",
       "    }\n",
       "</style>\n",
       "<table border=\"1\" class=\"dataframe\">\n",
       "  <thead>\n",
       "    <tr style=\"text-align: right;\">\n",
       "      <th></th>\n",
       "      <th>ain</th>\n",
       "      <th>application_received</th>\n",
       "      <th>application_year</th>\n",
       "      <th>council_district</th>\n",
       "      <th>address</th>\n",
       "      <th>city</th>\n",
       "      <th>zip</th>\n",
       "      <th>units_withdrawn</th>\n",
       "      <th>replacement_unit</th>\n",
       "      <th>yearbuilt</th>\n",
       "      <th>units</th>\n",
       "      <th>sqftmain</th>\n",
       "      <th>center_lat</th>\n",
       "      <th>center_lon</th>\n",
       "      <th>geometry</th>\n",
       "    </tr>\n",
       "  </thead>\n",
       "  <tbody>\n",
       "    <tr>\n",
       "      <th>0</th>\n",
       "      <td>2040031029</td>\n",
       "      <td>11/6/19</td>\n",
       "      <td>2019</td>\n",
       "      <td>3</td>\n",
       "      <td>22729 W DEL VALLE ST</td>\n",
       "      <td>LOS ANGELES</td>\n",
       "      <td>91364.0</td>\n",
       "      <td>3</td>\n",
       "      <td>0.0</td>\n",
       "      <td>1955.0</td>\n",
       "      <td>3.0</td>\n",
       "      <td>1860.0</td>\n",
       "      <td>34.165880</td>\n",
       "      <td>-118.621319</td>\n",
       "      <td>POINT (-13204864.81828771 4051097.450097568)</td>\n",
       "    </tr>\n",
       "    <tr>\n",
       "      <th>1</th>\n",
       "      <td>2040031030</td>\n",
       "      <td>12/4/19</td>\n",
       "      <td>2019</td>\n",
       "      <td>3</td>\n",
       "      <td>22727 W DEL VALLE ST</td>\n",
       "      <td>WOODLAND HILLS</td>\n",
       "      <td>91364.0</td>\n",
       "      <td>3</td>\n",
       "      <td>0.0</td>\n",
       "      <td>1955.0</td>\n",
       "      <td>3.0</td>\n",
       "      <td>1869.0</td>\n",
       "      <td>34.165929</td>\n",
       "      <td>-118.621164</td>\n",
       "      <td>POINT (-13204847.61386041 4051104.006178072)</td>\n",
       "    </tr>\n",
       "    <tr>\n",
       "      <th>2</th>\n",
       "      <td>2040033033</td>\n",
       "      <td>2/10/16</td>\n",
       "      <td>2016</td>\n",
       "      <td>3</td>\n",
       "      <td>22431 W DEL VALLE ST</td>\n",
       "      <td>WOODLAND HILLS</td>\n",
       "      <td>91364.0</td>\n",
       "      <td>3</td>\n",
       "      <td>0.0</td>\n",
       "      <td>1955.0</td>\n",
       "      <td>3.0</td>\n",
       "      <td>1869.0</td>\n",
       "      <td>34.167389</td>\n",
       "      <td>-118.616525</td>\n",
       "      <td>POINT (-13204331.1860447 4051300.523521864)</td>\n",
       "    </tr>\n",
       "    <tr>\n",
       "      <th>3</th>\n",
       "      <td>2107014004</td>\n",
       "      <td>4/21/20</td>\n",
       "      <td>2020</td>\n",
       "      <td>3</td>\n",
       "      <td>20327 W STAGG ST</td>\n",
       "      <td>LOS ANGELES</td>\n",
       "      <td>91306.0</td>\n",
       "      <td>3</td>\n",
       "      <td>0.0</td>\n",
       "      <td>1910.0</td>\n",
       "      <td>3.0</td>\n",
       "      <td>2446.0</td>\n",
       "      <td>34.211389</td>\n",
       "      <td>-118.576350</td>\n",
       "      <td>POINT (-13199858.95667153 4057221.803746735)</td>\n",
       "    </tr>\n",
       "    <tr>\n",
       "      <th>4</th>\n",
       "      <td>2111025021</td>\n",
       "      <td>3/16/16</td>\n",
       "      <td>2016</td>\n",
       "      <td>3</td>\n",
       "      <td>7118 N JORDAN AVE</td>\n",
       "      <td>CANOGA PARK</td>\n",
       "      <td>91303.0</td>\n",
       "      <td>2</td>\n",
       "      <td>9.0</td>\n",
       "      <td>1947.0</td>\n",
       "      <td>2.0</td>\n",
       "      <td>1489.0</td>\n",
       "      <td>34.199760</td>\n",
       "      <td>-118.602505</td>\n",
       "      <td>POINT (-13202770.5034817 4055656.567431433)</td>\n",
       "    </tr>\n",
       "  </tbody>\n",
       "</table>\n",
       "</div>"
      ],
      "text/plain": [
       "          ain application_received  application_year  council_district  \\\n",
       "0  2040031029              11/6/19              2019                 3   \n",
       "1  2040031030              12/4/19              2019                 3   \n",
       "2  2040033033              2/10/16              2016                 3   \n",
       "3  2107014004              4/21/20              2020                 3   \n",
       "4  2111025021              3/16/16              2016                 3   \n",
       "\n",
       "                address             city      zip  units_withdrawn  \\\n",
       "0  22729 W DEL VALLE ST     LOS ANGELES   91364.0                3   \n",
       "1  22727 W DEL VALLE ST  WOODLAND HILLS   91364.0                3   \n",
       "2  22431 W DEL VALLE ST  WOODLAND HILLS   91364.0                3   \n",
       "3      20327 W STAGG ST     LOS ANGELES   91306.0                3   \n",
       "4     7118 N JORDAN AVE     CANOGA PARK   91303.0                2   \n",
       "\n",
       "   replacement_unit  yearbuilt  units  sqftmain  center_lat  center_lon  \\\n",
       "0               0.0     1955.0    3.0    1860.0   34.165880 -118.621319   \n",
       "1               0.0     1955.0    3.0    1869.0   34.165929 -118.621164   \n",
       "2               0.0     1955.0    3.0    1869.0   34.167389 -118.616525   \n",
       "3               0.0     1910.0    3.0    2446.0   34.211389 -118.576350   \n",
       "4               9.0     1947.0    2.0    1489.0   34.199760 -118.602505   \n",
       "\n",
       "                                       geometry  \n",
       "0  POINT (-13204864.81828771 4051097.450097568)  \n",
       "1  POINT (-13204847.61386041 4051104.006178072)  \n",
       "2   POINT (-13204331.1860447 4051300.523521864)  \n",
       "3  POINT (-13199858.95667153 4057221.803746735)  \n",
       "4   POINT (-13202770.5034817 4055656.567431433)  "
      ]
     },
     "execution_count": 3,
     "metadata": {},
     "output_type": "execute_result"
    }
   ],
   "source": [
    "ellisdf.rename(columns={'Unnamed: 0': 'ain',}, inplace=True)\n",
    "\n",
    "ellisdf.head()"
   ]
  },
  {
   "cell_type": "code",
   "execution_count": 4,
   "id": "46d1d58d",
   "metadata": {},
   "outputs": [
    {
     "name": "stdout",
     "output_type": "stream",
     "text": [
      "['2019-11-06T00:00:00.000000000' '2019-12-04T00:00:00.000000000'\n",
      " '2016-02-10T00:00:00.000000000' ... '2020-07-20T00:00:00.000000000'\n",
      " '2018-02-13T00:00:00.000000000' '2017-01-12T00:00:00.000000000']\n"
     ]
    }
   ],
   "source": [
    "ellisdf['application_date'] = pd.to_datetime(ellisdf['application_received'])\n",
    "\n",
    "print(ellisdf['application_date'].unique())"
   ]
  },
  {
   "cell_type": "markdown",
   "id": "4b5b2818",
   "metadata": {},
   "source": [
    "In this case we are only interested in Ellis Act Evictions from 2014 to 2019, so we will create a new dataset dropping the others."
   ]
  },
  {
   "cell_type": "code",
   "execution_count": 5,
   "id": "b787c50c",
   "metadata": {},
   "outputs": [
    {
     "name": "stdout",
     "output_type": "stream",
     "text": [
      "[2019 2016 2015 2018 2017 2014]\n"
     ]
    }
   ],
   "source": [
    "studyellisdf=ellisdf[ellisdf['application_year'].between(2014, 2019)]\n",
    "\n",
    "print(studyellisdf['application_year'].unique())"
   ]
  },
  {
   "cell_type": "code",
   "execution_count": 6,
   "id": "a5d9d587",
   "metadata": {},
   "outputs": [
    {
     "name": "stderr",
     "output_type": "stream",
     "text": [
      "/Applications/anaconda3/envs/UP299/lib/python3.8/site-packages/IPython/core/interactiveshell.py:3050: DtypeWarning: Columns (27) have mixed types.Specify dtype option on import or set low_memory=False.\n",
      "  has_raised = await self.run_ast_nodes(code_ast.body, cell_name,\n"
     ]
    },
    {
     "data": {
      "text/plain": [
       "Index(['fid', 'CENTER_LON', 'YearBuilt5', 'YearBuilt4', 'YearBuilt1',\n",
       "       'UseType', 'YearBuilt2', 'APN', 'Bedrooms1', 'Bedrooms2', 'Bedrooms3',\n",
       "       'Bedrooms4', 'Bedrooms5', 'UseDescription', 'MailAddress', 'SQFTmain2',\n",
       "       'SQFTmain3', 'SQFTmain1', 'SQFTmain4', 'SQFTmain5', 'MailCity',\n",
       "       'Units1', 'Units3', 'Units2', 'Units5', 'Units4', 'OwnerFullName',\n",
       "       'AgencyName', 'AIN', 'Bathrooms5', 'Bathrooms4', 'Bathrooms1',\n",
       "       'Bathrooms3', 'Bathrooms2', 'SitusFullAddress', 'Shape.STArea()',\n",
       "       'Shape.STLength()', 'YearBuilt3', 'CENTER_LAT', 'LS1 Sale Amount',\n",
       "       'LS1 Sale Date', 'LS2 Sale Amount', 'LS2 Sale Date'],\n",
       "      dtype='object')"
      ]
     },
     "execution_count": 6,
     "metadata": {},
     "output_type": "execute_result"
    }
   ],
   "source": [
    "parcelsdf=pd.read_csv('/Users/alexanderferrer/Desktop/assessor_2019_la.csv')\n",
    "\n",
    "parcelsdf.columns"
   ]
  },
  {
   "cell_type": "code",
   "execution_count": 7,
   "id": "b2aeb448",
   "metadata": {},
   "outputs": [
    {
     "data": {
      "text/plain": [
       "Index(['fid', 'center_lon', 'yearbuilt5', 'yearbuilt4', 'yearbuilt1',\n",
       "       'usetype', 'yearbuilt2', 'apn', 'bedrooms1', 'bedrooms2', 'bedrooms3',\n",
       "       'bedrooms4', 'bedrooms5', 'usedescription', 'mailaddress', 'sqftmain2',\n",
       "       'sqftmain3', 'sqftmain1', 'sqftmain4', 'sqftmain5', 'mailcity',\n",
       "       'units1', 'units3', 'units2', 'units5', 'units4', 'ownerfullname',\n",
       "       'agencyname', 'ain', 'bathrooms5', 'bathrooms4', 'bathrooms1',\n",
       "       'bathrooms3', 'bathrooms2', 'situsfulladdress', 'shape.starea()',\n",
       "       'shape.stlength()', 'yearbuilt3', 'center_lat', 'ls1 sale amount',\n",
       "       'ls1 sale date', 'ls2 sale amount', 'ls2 sale date'],\n",
       "      dtype='object')"
      ]
     },
     "execution_count": 7,
     "metadata": {},
     "output_type": "execute_result"
    }
   ],
   "source": [
    "parcelsdf.columns=parcelsdf.columns.str.lower()\n",
    "\n",
    "parcelsdf.columns"
   ]
  },
  {
   "cell_type": "code",
   "execution_count": 8,
   "id": "fbc57d76",
   "metadata": {},
   "outputs": [
    {
     "data": {
      "text/plain": [
       "Index(['fid', 'center_lon', 'yearbuilt5', 'yearbuilt4', 'yearbuilt1',\n",
       "       'usetype', 'yearbuilt2', 'apn', 'bedrooms1', 'bedrooms2', 'bedrooms3',\n",
       "       'bedrooms4', 'bedrooms5', 'usedescription', 'mailaddress', 'sqftmain2',\n",
       "       'sqftmain3', 'sqftmain1', 'sqftmain4', 'sqftmain5', 'mailcity',\n",
       "       'units1', 'units3', 'units2', 'units5', 'units4', 'ownerfullname',\n",
       "       'agencyname', 'ain', 'bathrooms5', 'bathrooms4', 'bathrooms1',\n",
       "       'bathrooms3', 'bathrooms2', 'situsfulladdress', 'shape.starea()',\n",
       "       'shape.stlength()', 'yearbuilt3', 'center_lat', 'ls1_sale_amount',\n",
       "       'ls1_sale_date', 'ls2_sale_amount', 'ls2_sale_date'],\n",
       "      dtype='object')"
      ]
     },
     "execution_count": 8,
     "metadata": {},
     "output_type": "execute_result"
    }
   ],
   "source": [
    "parcelsdf.columns = parcelsdf.columns.str.replace(' ','_')\n",
    "\n",
    "parcelsdf.columns"
   ]
  },
  {
   "cell_type": "markdown",
   "id": "02466204",
   "metadata": {},
   "source": [
    "We need to find total values for the parcels' characteristics, so first we need to convert the fields to in and nulls to zeros."
   ]
  },
  {
   "cell_type": "code",
   "execution_count": 9,
   "id": "f145d9d2",
   "metadata": {},
   "outputs": [],
   "source": [
    "parcelsdf[['bedrooms1', 'bedrooms2', 'bedrooms3','bedrooms4', 'bedrooms5','sqftmain2','sqftmain3','sqftmain1', 'sqftmain4', 'sqftmain5','units1', 'units3', 'units2', 'units5', 'units4','bathrooms5', 'bathrooms4', 'bathrooms1','bathrooms3', 'bathrooms2']]= parcelsdf[['bedrooms1', 'bedrooms2', 'bedrooms3','bedrooms4', 'bedrooms5','sqftmain2','sqftmain3','sqftmain1', 'sqftmain4', 'sqftmain5','units1', 'units3', 'units2', 'units5', 'units4','bathrooms5', 'bathrooms4', 'bathrooms1','bathrooms3', 'bathrooms2']].fillna(0)"
   ]
  },
  {
   "cell_type": "code",
   "execution_count": 10,
   "id": "8aaed0ba",
   "metadata": {},
   "outputs": [],
   "source": [
    "parcelsdf[['bedrooms1', 'bedrooms2', 'bedrooms3','bedrooms4', 'bedrooms5','sqftmain2','sqftmain3','sqftmain1', 'sqftmain4', 'sqftmain5','units1', 'units3', 'units2', 'units5', 'units4','bathrooms5', 'bathrooms4', 'bathrooms1','bathrooms3', 'bathrooms2']]= parcelsdf[['bedrooms1', 'bedrooms2', 'bedrooms3','bedrooms4', 'bedrooms5','sqftmain2','sqftmain3','sqftmain1', 'sqftmain4', 'sqftmain5','units1', 'units3', 'units2', 'units5', 'units4','bathrooms5', 'bathrooms4', 'bathrooms1','bathrooms3', 'bathrooms2']].astype(int)"
   ]
  },
  {
   "cell_type": "code",
   "execution_count": 11,
   "id": "6fb6c603",
   "metadata": {},
   "outputs": [],
   "source": [
    "parcelsdf['units_total']=parcelsdf['units1']+parcelsdf['units2']+parcelsdf['units3']+parcelsdf['units4']+parcelsdf['units5']\n",
    "\n",
    "parcelsdf['bedrooms_total']=parcelsdf['bedrooms1']+parcelsdf['bedrooms2']+parcelsdf['bedrooms3']+parcelsdf['bedrooms4']+parcelsdf['bedrooms5']\n",
    "\n",
    "parcelsdf['bathrooms_total']=parcelsdf['bathrooms1']+parcelsdf['bathrooms2']+parcelsdf['bathrooms3']+parcelsdf['bathrooms4']+parcelsdf['bathrooms5']\n",
    "\n",
    "parcelsdf['sqft_total']=parcelsdf['sqftmain1']+parcelsdf['sqftmain2']+parcelsdf['sqftmain3']+parcelsdf['sqftmain4']+parcelsdf['sqftmain5']\n",
    "\n"
   ]
  },
  {
   "cell_type": "markdown",
   "id": "419a3fbf",
   "metadata": {},
   "source": [
    "We also need to find the average built age of the structures on the parcel. However some are inccorectly recorded as 0, and we will need to convert those to null first."
   ]
  },
  {
   "cell_type": "code",
   "execution_count": 12,
   "id": "227a910c",
   "metadata": {},
   "outputs": [],
   "source": [
    "import numpy as np"
   ]
  },
  {
   "cell_type": "code",
   "execution_count": 13,
   "id": "4f60d034",
   "metadata": {},
   "outputs": [],
   "source": [
    "parcelsdf[['yearbuilt5', 'yearbuilt4', 'yearbuilt1','yearbuilt2','yearbuilt3']]=parcelsdf[['yearbuilt5', 'yearbuilt4', 'yearbuilt1','yearbuilt2','yearbuilt3']].replace(0,np.nan)"
   ]
  },
  {
   "cell_type": "code",
   "execution_count": 14,
   "id": "05790833",
   "metadata": {},
   "outputs": [
    {
     "name": "stdout",
     "output_type": "stream",
     "text": [
      "[1961 1948 1981 1926 1952 1950 1977 1956 1980 1959 1954 1973 1945 1901\n",
      " 1912 1908 1933 1895 1906 1913 1935 1890 1914 1921 1931 1922 1898 1905\n",
      " 1927 1923 1953 1904 1909 1900 1911 1929 1885 1936 1919 2003 1907 1893\n",
      " 1944 1941 1902 1880 1887 1899 1940 2006 1896 1918 1947 1892 1963 1897\n",
      " 1910 1978 1903 2001 1966 1946 1939 1975 1938 1951 1924 1915 2004 1937\n",
      " 1920 1960 1965 2007 1986 2002 1964 1958 2010 1916 1979 1962 1957 1990\n",
      " 1932 2009 1997 1991 1930 1993 1992 1928 2011 1985 1943 1949 1988 1925\n",
      " 1976 1917 1891 2016 1942 2008 2014 1999 1881 1934 1984 1968 1989 1884\n",
      " 1972 1971 1967 1983 1994 1955 1969 2005 1982 1987 1998 1996 2017 1894\n",
      " 1995 1889 2015 1970 1974 1888 2013 2000 2012 2018 1886 1882 1804 1883\n",
      " 2019 1833 1875 1867 1857 1819 1866 1870 1861 1827 1815 1828 1806 1879\n",
      " 1873 1864 1834 1863 1872 1852 1877 1868 1808 1869 1865 1855 1812 1825\n",
      " 1859]\n"
     ]
    }
   ],
   "source": [
    "parcelsdf['yearbuilt_avg']=parcelsdf[['yearbuilt5', 'yearbuilt4', 'yearbuilt1','yearbuilt2','yearbuilt3']].mean(axis=1)\n",
    "\n",
    "parcelsdf['yearbuilt_avg']=parcelsdf['yearbuilt_avg'].astype(int)\n",
    "\n",
    "print(parcelsdf.yearbuilt_avg.unique())"
   ]
  },
  {
   "cell_type": "markdown",
   "id": "20253981",
   "metadata": {},
   "source": [
    "Now we can generate some more interesting parcel characteristics, in terms of built area to parcel area, and estimated density."
   ]
  },
  {
   "cell_type": "code",
   "execution_count": 15,
   "id": "b9cc2cbe",
   "metadata": {},
   "outputs": [
    {
     "data": {
      "text/plain": [
       "Index(['fid', 'center_lon', 'yearbuilt5', 'yearbuilt4', 'yearbuilt1',\n",
       "       'usetype', 'yearbuilt2', 'apn', 'bedrooms1', 'bedrooms2', 'bedrooms3',\n",
       "       'bedrooms4', 'bedrooms5', 'usedescription', 'mailaddress', 'sqftmain2',\n",
       "       'sqftmain3', 'sqftmain1', 'sqftmain4', 'sqftmain5', 'mailcity',\n",
       "       'units1', 'units3', 'units2', 'units5', 'units4', 'ownerfullname',\n",
       "       'agencyname', 'ain', 'bathrooms5', 'bathrooms4', 'bathrooms1',\n",
       "       'bathrooms3', 'bathrooms2', 'situsfulladdress', 'shape.starea()',\n",
       "       'shape.stlength()', 'yearbuilt3', 'center_lat', 'ls1_sale_amount',\n",
       "       'ls1_sale_date', 'ls2_sale_amount', 'ls2_sale_date', 'units_total',\n",
       "       'bedrooms_total', 'bathrooms_total', 'sqft_total', 'yearbuilt_avg',\n",
       "       'built_to_land', 'estimated_density_per_acre'],\n",
       "      dtype='object')"
      ]
     },
     "execution_count": 15,
     "metadata": {},
     "output_type": "execute_result"
    }
   ],
   "source": [
    "parcelsdf['built_to_land']=parcelsdf['sqft_total']/parcelsdf['shape.starea()']\n",
    "\n",
    "parcelsdf['estimated_density_per_acre']=(parcelsdf['units_total']/(parcelsdf['shape.starea()']/43560))\n",
    "\n",
    "parcelsdf.columns"
   ]
  },
  {
   "cell_type": "markdown",
   "id": "e3b6e508",
   "metadata": {},
   "source": [
    "Now, we can indentify parcels that were built or sold in the years in question"
   ]
  },
  {
   "cell_type": "code",
   "execution_count": 16,
   "id": "6d01aa5f",
   "metadata": {},
   "outputs": [
    {
     "name": "stdout",
     "output_type": "stream",
     "text": [
      "[19741018.        0. 20191007. ... 19890527. 19721228. 20170422.]\n"
     ]
    }
   ],
   "source": [
    "print(parcelsdf['ls1_sale_date'].unique())"
   ]
  },
  {
   "cell_type": "code",
   "execution_count": 35,
   "id": "1738b188",
   "metadata": {
    "scrolled": true
   },
   "outputs": [
    {
     "ename": "ParserError",
     "evalue": "day is out of range for month: 19830232",
     "output_type": "error",
     "traceback": [
      "\u001b[0;31m---------------------------------------------------------------------------\u001b[0m",
      "\u001b[0;31mValueError\u001b[0m                                Traceback (most recent call last)",
      "\u001b[0;32m/Applications/anaconda3/envs/UP299/lib/python3.8/site-packages/dateutil/parser/_parser.py\u001b[0m in \u001b[0;36mparse\u001b[0;34m(self, timestr, default, ignoretz, tzinfos, **kwargs)\u001b[0m\n\u001b[1;32m    654\u001b[0m         \u001b[0;32mtry\u001b[0m\u001b[0;34m:\u001b[0m\u001b[0;34m\u001b[0m\u001b[0;34m\u001b[0m\u001b[0m\n\u001b[0;32m--> 655\u001b[0;31m             \u001b[0mret\u001b[0m \u001b[0;34m=\u001b[0m \u001b[0mself\u001b[0m\u001b[0;34m.\u001b[0m\u001b[0m_build_naive\u001b[0m\u001b[0;34m(\u001b[0m\u001b[0mres\u001b[0m\u001b[0;34m,\u001b[0m \u001b[0mdefault\u001b[0m\u001b[0;34m)\u001b[0m\u001b[0;34m\u001b[0m\u001b[0;34m\u001b[0m\u001b[0m\n\u001b[0m\u001b[1;32m    656\u001b[0m         \u001b[0;32mexcept\u001b[0m \u001b[0mValueError\u001b[0m \u001b[0;32mas\u001b[0m \u001b[0me\u001b[0m\u001b[0;34m:\u001b[0m\u001b[0;34m\u001b[0m\u001b[0;34m\u001b[0m\u001b[0m\n",
      "\u001b[0;32m/Applications/anaconda3/envs/UP299/lib/python3.8/site-packages/dateutil/parser/_parser.py\u001b[0m in \u001b[0;36m_build_naive\u001b[0;34m(self, res, default)\u001b[0m\n\u001b[1;32m   1240\u001b[0m \u001b[0;34m\u001b[0m\u001b[0m\n\u001b[0;32m-> 1241\u001b[0;31m         \u001b[0mnaive\u001b[0m \u001b[0;34m=\u001b[0m \u001b[0mdefault\u001b[0m\u001b[0;34m.\u001b[0m\u001b[0mreplace\u001b[0m\u001b[0;34m(\u001b[0m\u001b[0;34m**\u001b[0m\u001b[0mrepl\u001b[0m\u001b[0;34m)\u001b[0m\u001b[0;34m\u001b[0m\u001b[0;34m\u001b[0m\u001b[0m\n\u001b[0m\u001b[1;32m   1242\u001b[0m \u001b[0;34m\u001b[0m\u001b[0m\n",
      "\u001b[0;31mValueError\u001b[0m: day is out of range for month",
      "\nThe above exception was the direct cause of the following exception:\n",
      "\u001b[0;31mParserError\u001b[0m                               Traceback (most recent call last)",
      "\u001b[0;32mpandas/_libs/tslib.pyx\u001b[0m in \u001b[0;36mpandas._libs.tslib.array_to_datetime\u001b[0;34m()\u001b[0m\n",
      "\u001b[0;32mpandas/_libs/tslibs/parsing.pyx\u001b[0m in \u001b[0;36mpandas._libs.tslibs.parsing.parse_datetime_string\u001b[0;34m()\u001b[0m\n",
      "\u001b[0;32m/Applications/anaconda3/envs/UP299/lib/python3.8/site-packages/dateutil/parser/_parser.py\u001b[0m in \u001b[0;36mparse\u001b[0;34m(timestr, parserinfo, **kwargs)\u001b[0m\n\u001b[1;32m   1373\u001b[0m     \u001b[0;32melse\u001b[0m\u001b[0;34m:\u001b[0m\u001b[0;34m\u001b[0m\u001b[0;34m\u001b[0m\u001b[0m\n\u001b[0;32m-> 1374\u001b[0;31m         \u001b[0;32mreturn\u001b[0m \u001b[0mDEFAULTPARSER\u001b[0m\u001b[0;34m.\u001b[0m\u001b[0mparse\u001b[0m\u001b[0;34m(\u001b[0m\u001b[0mtimestr\u001b[0m\u001b[0;34m,\u001b[0m \u001b[0;34m**\u001b[0m\u001b[0mkwargs\u001b[0m\u001b[0;34m)\u001b[0m\u001b[0;34m\u001b[0m\u001b[0;34m\u001b[0m\u001b[0m\n\u001b[0m\u001b[1;32m   1375\u001b[0m \u001b[0;34m\u001b[0m\u001b[0m\n",
      "\u001b[0;32m/Applications/anaconda3/envs/UP299/lib/python3.8/site-packages/dateutil/parser/_parser.py\u001b[0m in \u001b[0;36mparse\u001b[0;34m(self, timestr, default, ignoretz, tzinfos, **kwargs)\u001b[0m\n\u001b[1;32m    656\u001b[0m         \u001b[0;32mexcept\u001b[0m \u001b[0mValueError\u001b[0m \u001b[0;32mas\u001b[0m \u001b[0me\u001b[0m\u001b[0;34m:\u001b[0m\u001b[0;34m\u001b[0m\u001b[0;34m\u001b[0m\u001b[0m\n\u001b[0;32m--> 657\u001b[0;31m             \u001b[0msix\u001b[0m\u001b[0;34m.\u001b[0m\u001b[0mraise_from\u001b[0m\u001b[0;34m(\u001b[0m\u001b[0mParserError\u001b[0m\u001b[0;34m(\u001b[0m\u001b[0me\u001b[0m\u001b[0;34m.\u001b[0m\u001b[0margs\u001b[0m\u001b[0;34m[\u001b[0m\u001b[0;36m0\u001b[0m\u001b[0;34m]\u001b[0m \u001b[0;34m+\u001b[0m \u001b[0;34m\": %s\"\u001b[0m\u001b[0;34m,\u001b[0m \u001b[0mtimestr\u001b[0m\u001b[0;34m)\u001b[0m\u001b[0;34m,\u001b[0m \u001b[0me\u001b[0m\u001b[0;34m)\u001b[0m\u001b[0;34m\u001b[0m\u001b[0;34m\u001b[0m\u001b[0m\n\u001b[0m\u001b[1;32m    658\u001b[0m \u001b[0;34m\u001b[0m\u001b[0m\n",
      "\u001b[0;32m/Applications/anaconda3/envs/UP299/lib/python3.8/site-packages/six.py\u001b[0m in \u001b[0;36mraise_from\u001b[0;34m(value, from_value)\u001b[0m\n",
      "\u001b[0;31mParserError\u001b[0m: day is out of range for month: 19830232",
      "\nDuring handling of the above exception, another exception occurred:\n",
      "\u001b[0;31mTypeError\u001b[0m                                 Traceback (most recent call last)",
      "\u001b[0;32mpandas/_libs/tslib.pyx\u001b[0m in \u001b[0;36mpandas._libs.tslib.array_to_datetime\u001b[0;34m()\u001b[0m\n",
      "\u001b[0;31mTypeError\u001b[0m: invalid string coercion to datetime",
      "\nDuring handling of the above exception, another exception occurred:\n",
      "\u001b[0;31mValueError\u001b[0m                                Traceback (most recent call last)",
      "\u001b[0;32m/Applications/anaconda3/envs/UP299/lib/python3.8/site-packages/dateutil/parser/_parser.py\u001b[0m in \u001b[0;36mparse\u001b[0;34m(self, timestr, default, ignoretz, tzinfos, **kwargs)\u001b[0m\n\u001b[1;32m    654\u001b[0m         \u001b[0;32mtry\u001b[0m\u001b[0;34m:\u001b[0m\u001b[0;34m\u001b[0m\u001b[0;34m\u001b[0m\u001b[0m\n\u001b[0;32m--> 655\u001b[0;31m             \u001b[0mret\u001b[0m \u001b[0;34m=\u001b[0m \u001b[0mself\u001b[0m\u001b[0;34m.\u001b[0m\u001b[0m_build_naive\u001b[0m\u001b[0;34m(\u001b[0m\u001b[0mres\u001b[0m\u001b[0;34m,\u001b[0m \u001b[0mdefault\u001b[0m\u001b[0;34m)\u001b[0m\u001b[0;34m\u001b[0m\u001b[0;34m\u001b[0m\u001b[0m\n\u001b[0m\u001b[1;32m    656\u001b[0m         \u001b[0;32mexcept\u001b[0m \u001b[0mValueError\u001b[0m \u001b[0;32mas\u001b[0m \u001b[0me\u001b[0m\u001b[0;34m:\u001b[0m\u001b[0;34m\u001b[0m\u001b[0;34m\u001b[0m\u001b[0m\n",
      "\u001b[0;32m/Applications/anaconda3/envs/UP299/lib/python3.8/site-packages/dateutil/parser/_parser.py\u001b[0m in \u001b[0;36m_build_naive\u001b[0;34m(self, res, default)\u001b[0m\n\u001b[1;32m   1240\u001b[0m \u001b[0;34m\u001b[0m\u001b[0m\n\u001b[0;32m-> 1241\u001b[0;31m         \u001b[0mnaive\u001b[0m \u001b[0;34m=\u001b[0m \u001b[0mdefault\u001b[0m\u001b[0;34m.\u001b[0m\u001b[0mreplace\u001b[0m\u001b[0;34m(\u001b[0m\u001b[0;34m**\u001b[0m\u001b[0mrepl\u001b[0m\u001b[0;34m)\u001b[0m\u001b[0;34m\u001b[0m\u001b[0;34m\u001b[0m\u001b[0m\n\u001b[0m\u001b[1;32m   1242\u001b[0m \u001b[0;34m\u001b[0m\u001b[0m\n",
      "\u001b[0;31mValueError\u001b[0m: day is out of range for month",
      "\nThe above exception was the direct cause of the following exception:\n",
      "\u001b[0;31mParserError\u001b[0m                               Traceback (most recent call last)",
      "\u001b[0;32m<ipython-input-35-984078c6e9f1>\u001b[0m in \u001b[0;36m<module>\u001b[0;34m\u001b[0m\n\u001b[1;32m      4\u001b[0m \u001b[0mparcelsdf\u001b[0m\u001b[0;34m[\u001b[0m\u001b[0;34m'ls1_sale_date'\u001b[0m\u001b[0;34m]\u001b[0m\u001b[0;34m=\u001b[0m\u001b[0mparcelsdf\u001b[0m\u001b[0;34m[\u001b[0m\u001b[0;34m'ls1_sale_date'\u001b[0m\u001b[0;34m]\u001b[0m\u001b[0;34m.\u001b[0m\u001b[0mreplace\u001b[0m\u001b[0;34m(\u001b[0m\u001b[0mto_replace\u001b[0m\u001b[0;34m=\u001b[0m\u001b[0;36m19830232\u001b[0m\u001b[0;34m,\u001b[0m\u001b[0mvalue\u001b[0m\u001b[0;34m=\u001b[0m\u001b[0;36m19990101\u001b[0m\u001b[0;34m)\u001b[0m\u001b[0;34m\u001b[0m\u001b[0;34m\u001b[0m\u001b[0m\n\u001b[1;32m      5\u001b[0m \u001b[0mparcelsdf\u001b[0m\u001b[0;34m[\u001b[0m\u001b[0;34m'ls1_sale_date'\u001b[0m\u001b[0;34m]\u001b[0m\u001b[0;34m=\u001b[0m\u001b[0mparcelsdf\u001b[0m\u001b[0;34m.\u001b[0m\u001b[0mls1_sale_date\u001b[0m\u001b[0;34m.\u001b[0m\u001b[0mastype\u001b[0m\u001b[0;34m(\u001b[0m\u001b[0mint\u001b[0m\u001b[0;34m)\u001b[0m\u001b[0;34m.\u001b[0m\u001b[0mastype\u001b[0m\u001b[0;34m(\u001b[0m\u001b[0mstr\u001b[0m\u001b[0;34m)\u001b[0m\u001b[0;34m\u001b[0m\u001b[0;34m\u001b[0m\u001b[0m\n\u001b[0;32m----> 6\u001b[0;31m \u001b[0mparcelsdf\u001b[0m\u001b[0;34m[\u001b[0m\u001b[0;34m'last_sold_date'\u001b[0m\u001b[0;34m]\u001b[0m \u001b[0;34m=\u001b[0m \u001b[0mpd\u001b[0m\u001b[0;34m.\u001b[0m\u001b[0mto_datetime\u001b[0m\u001b[0;34m(\u001b[0m\u001b[0mparcelsdf\u001b[0m\u001b[0;34m[\u001b[0m\u001b[0;34m'ls1_sale_date'\u001b[0m\u001b[0;34m]\u001b[0m\u001b[0;34m,\u001b[0m\u001b[0minfer_datetime_format\u001b[0m\u001b[0;34m=\u001b[0m\u001b[0;32mTrue\u001b[0m\u001b[0;34m)\u001b[0m\u001b[0;34m\u001b[0m\u001b[0;34m\u001b[0m\u001b[0m\n\u001b[0m\u001b[1;32m      7\u001b[0m \u001b[0mprint\u001b[0m\u001b[0;34m(\u001b[0m\u001b[0mparcelsdf\u001b[0m\u001b[0;34m.\u001b[0m\u001b[0mlast_sold_date\u001b[0m\u001b[0;34m.\u001b[0m\u001b[0munique\u001b[0m\u001b[0;34m(\u001b[0m\u001b[0;34m)\u001b[0m\u001b[0;34m)\u001b[0m\u001b[0;34m\u001b[0m\u001b[0;34m\u001b[0m\u001b[0m\n",
      "\u001b[0;32m/Applications/anaconda3/envs/UP299/lib/python3.8/site-packages/pandas/core/tools/datetimes.py\u001b[0m in \u001b[0;36mto_datetime\u001b[0;34m(arg, errors, dayfirst, yearfirst, utc, format, exact, unit, infer_datetime_format, origin, cache)\u001b[0m\n\u001b[1;32m    803\u001b[0m             \u001b[0mresult\u001b[0m \u001b[0;34m=\u001b[0m \u001b[0marg\u001b[0m\u001b[0;34m.\u001b[0m\u001b[0mmap\u001b[0m\u001b[0;34m(\u001b[0m\u001b[0mcache_array\u001b[0m\u001b[0;34m)\u001b[0m\u001b[0;34m\u001b[0m\u001b[0;34m\u001b[0m\u001b[0m\n\u001b[1;32m    804\u001b[0m         \u001b[0;32melse\u001b[0m\u001b[0;34m:\u001b[0m\u001b[0;34m\u001b[0m\u001b[0;34m\u001b[0m\u001b[0m\n\u001b[0;32m--> 805\u001b[0;31m             \u001b[0mvalues\u001b[0m \u001b[0;34m=\u001b[0m \u001b[0mconvert_listlike\u001b[0m\u001b[0;34m(\u001b[0m\u001b[0marg\u001b[0m\u001b[0;34m.\u001b[0m\u001b[0m_values\u001b[0m\u001b[0;34m,\u001b[0m \u001b[0mformat\u001b[0m\u001b[0;34m)\u001b[0m\u001b[0;34m\u001b[0m\u001b[0;34m\u001b[0m\u001b[0m\n\u001b[0m\u001b[1;32m    806\u001b[0m             \u001b[0mresult\u001b[0m \u001b[0;34m=\u001b[0m \u001b[0marg\u001b[0m\u001b[0;34m.\u001b[0m\u001b[0m_constructor\u001b[0m\u001b[0;34m(\u001b[0m\u001b[0mvalues\u001b[0m\u001b[0;34m,\u001b[0m \u001b[0mindex\u001b[0m\u001b[0;34m=\u001b[0m\u001b[0marg\u001b[0m\u001b[0;34m.\u001b[0m\u001b[0mindex\u001b[0m\u001b[0;34m,\u001b[0m \u001b[0mname\u001b[0m\u001b[0;34m=\u001b[0m\u001b[0marg\u001b[0m\u001b[0;34m.\u001b[0m\u001b[0mname\u001b[0m\u001b[0;34m)\u001b[0m\u001b[0;34m\u001b[0m\u001b[0;34m\u001b[0m\u001b[0m\n\u001b[1;32m    807\u001b[0m     \u001b[0;32melif\u001b[0m \u001b[0misinstance\u001b[0m\u001b[0;34m(\u001b[0m\u001b[0marg\u001b[0m\u001b[0;34m,\u001b[0m \u001b[0;34m(\u001b[0m\u001b[0mABCDataFrame\u001b[0m\u001b[0;34m,\u001b[0m \u001b[0mabc\u001b[0m\u001b[0;34m.\u001b[0m\u001b[0mMutableMapping\u001b[0m\u001b[0;34m)\u001b[0m\u001b[0;34m)\u001b[0m\u001b[0;34m:\u001b[0m\u001b[0;34m\u001b[0m\u001b[0;34m\u001b[0m\u001b[0m\n",
      "\u001b[0;32m/Applications/anaconda3/envs/UP299/lib/python3.8/site-packages/pandas/core/tools/datetimes.py\u001b[0m in \u001b[0;36m_convert_listlike_datetimes\u001b[0;34m(arg, format, name, tz, unit, errors, infer_datetime_format, dayfirst, yearfirst, exact)\u001b[0m\n\u001b[1;32m    463\u001b[0m         \u001b[0;32massert\u001b[0m \u001b[0mformat\u001b[0m \u001b[0;32mis\u001b[0m \u001b[0;32mNone\u001b[0m \u001b[0;32mor\u001b[0m \u001b[0minfer_datetime_format\u001b[0m\u001b[0;34m\u001b[0m\u001b[0;34m\u001b[0m\u001b[0m\n\u001b[1;32m    464\u001b[0m         \u001b[0mutc\u001b[0m \u001b[0;34m=\u001b[0m \u001b[0mtz\u001b[0m \u001b[0;34m==\u001b[0m \u001b[0;34m\"utc\"\u001b[0m\u001b[0;34m\u001b[0m\u001b[0;34m\u001b[0m\u001b[0m\n\u001b[0;32m--> 465\u001b[0;31m         result, tz_parsed = objects_to_datetime64ns(\n\u001b[0m\u001b[1;32m    466\u001b[0m             \u001b[0marg\u001b[0m\u001b[0;34m,\u001b[0m\u001b[0;34m\u001b[0m\u001b[0;34m\u001b[0m\u001b[0m\n\u001b[1;32m    467\u001b[0m             \u001b[0mdayfirst\u001b[0m\u001b[0;34m=\u001b[0m\u001b[0mdayfirst\u001b[0m\u001b[0;34m,\u001b[0m\u001b[0;34m\u001b[0m\u001b[0;34m\u001b[0m\u001b[0m\n",
      "\u001b[0;32m/Applications/anaconda3/envs/UP299/lib/python3.8/site-packages/pandas/core/arrays/datetimes.py\u001b[0m in \u001b[0;36mobjects_to_datetime64ns\u001b[0;34m(data, dayfirst, yearfirst, utc, errors, require_iso8601, allow_object)\u001b[0m\n\u001b[1;32m   2088\u001b[0m             \u001b[0;32mreturn\u001b[0m \u001b[0mvalues\u001b[0m\u001b[0;34m.\u001b[0m\u001b[0mview\u001b[0m\u001b[0;34m(\u001b[0m\u001b[0;34m\"i8\"\u001b[0m\u001b[0;34m)\u001b[0m\u001b[0;34m,\u001b[0m \u001b[0mtz_parsed\u001b[0m\u001b[0;34m\u001b[0m\u001b[0;34m\u001b[0m\u001b[0m\n\u001b[1;32m   2089\u001b[0m         \u001b[0;32mexcept\u001b[0m \u001b[0;34m(\u001b[0m\u001b[0mValueError\u001b[0m\u001b[0;34m,\u001b[0m \u001b[0mTypeError\u001b[0m\u001b[0;34m)\u001b[0m\u001b[0;34m:\u001b[0m\u001b[0;34m\u001b[0m\u001b[0;34m\u001b[0m\u001b[0m\n\u001b[0;32m-> 2090\u001b[0;31m             \u001b[0;32mraise\u001b[0m \u001b[0me\u001b[0m\u001b[0;34m\u001b[0m\u001b[0;34m\u001b[0m\u001b[0m\n\u001b[0m\u001b[1;32m   2091\u001b[0m \u001b[0;34m\u001b[0m\u001b[0m\n\u001b[1;32m   2092\u001b[0m     \u001b[0;32mif\u001b[0m \u001b[0mtz_parsed\u001b[0m \u001b[0;32mis\u001b[0m \u001b[0;32mnot\u001b[0m \u001b[0;32mNone\u001b[0m\u001b[0;34m:\u001b[0m\u001b[0;34m\u001b[0m\u001b[0;34m\u001b[0m\u001b[0m\n",
      "\u001b[0;32m/Applications/anaconda3/envs/UP299/lib/python3.8/site-packages/pandas/core/arrays/datetimes.py\u001b[0m in \u001b[0;36mobjects_to_datetime64ns\u001b[0;34m(data, dayfirst, yearfirst, utc, errors, require_iso8601, allow_object)\u001b[0m\n\u001b[1;32m   2073\u001b[0m \u001b[0;34m\u001b[0m\u001b[0m\n\u001b[1;32m   2074\u001b[0m     \u001b[0;32mtry\u001b[0m\u001b[0;34m:\u001b[0m\u001b[0;34m\u001b[0m\u001b[0;34m\u001b[0m\u001b[0m\n\u001b[0;32m-> 2075\u001b[0;31m         result, tz_parsed = tslib.array_to_datetime(\n\u001b[0m\u001b[1;32m   2076\u001b[0m             \u001b[0mdata\u001b[0m\u001b[0;34m,\u001b[0m\u001b[0;34m\u001b[0m\u001b[0;34m\u001b[0m\u001b[0m\n\u001b[1;32m   2077\u001b[0m             \u001b[0merrors\u001b[0m\u001b[0;34m=\u001b[0m\u001b[0merrors\u001b[0m\u001b[0;34m,\u001b[0m\u001b[0;34m\u001b[0m\u001b[0;34m\u001b[0m\u001b[0m\n",
      "\u001b[0;32mpandas/_libs/tslib.pyx\u001b[0m in \u001b[0;36mpandas._libs.tslib.array_to_datetime\u001b[0;34m()\u001b[0m\n",
      "\u001b[0;32mpandas/_libs/tslib.pyx\u001b[0m in \u001b[0;36mpandas._libs.tslib.array_to_datetime\u001b[0;34m()\u001b[0m\n",
      "\u001b[0;32mpandas/_libs/tslib.pyx\u001b[0m in \u001b[0;36mpandas._libs.tslib.array_to_datetime_object\u001b[0;34m()\u001b[0m\n",
      "\u001b[0;32mpandas/_libs/tslib.pyx\u001b[0m in \u001b[0;36mpandas._libs.tslib.array_to_datetime_object\u001b[0;34m()\u001b[0m\n",
      "\u001b[0;32mpandas/_libs/tslibs/parsing.pyx\u001b[0m in \u001b[0;36mpandas._libs.tslibs.parsing.parse_datetime_string\u001b[0;34m()\u001b[0m\n",
      "\u001b[0;32m/Applications/anaconda3/envs/UP299/lib/python3.8/site-packages/dateutil/parser/_parser.py\u001b[0m in \u001b[0;36mparse\u001b[0;34m(timestr, parserinfo, **kwargs)\u001b[0m\n\u001b[1;32m   1372\u001b[0m         \u001b[0;32mreturn\u001b[0m \u001b[0mparser\u001b[0m\u001b[0;34m(\u001b[0m\u001b[0mparserinfo\u001b[0m\u001b[0;34m)\u001b[0m\u001b[0;34m.\u001b[0m\u001b[0mparse\u001b[0m\u001b[0;34m(\u001b[0m\u001b[0mtimestr\u001b[0m\u001b[0;34m,\u001b[0m \u001b[0;34m**\u001b[0m\u001b[0mkwargs\u001b[0m\u001b[0;34m)\u001b[0m\u001b[0;34m\u001b[0m\u001b[0;34m\u001b[0m\u001b[0m\n\u001b[1;32m   1373\u001b[0m     \u001b[0;32melse\u001b[0m\u001b[0;34m:\u001b[0m\u001b[0;34m\u001b[0m\u001b[0;34m\u001b[0m\u001b[0m\n\u001b[0;32m-> 1374\u001b[0;31m         \u001b[0;32mreturn\u001b[0m \u001b[0mDEFAULTPARSER\u001b[0m\u001b[0;34m.\u001b[0m\u001b[0mparse\u001b[0m\u001b[0;34m(\u001b[0m\u001b[0mtimestr\u001b[0m\u001b[0;34m,\u001b[0m \u001b[0;34m**\u001b[0m\u001b[0mkwargs\u001b[0m\u001b[0;34m)\u001b[0m\u001b[0;34m\u001b[0m\u001b[0;34m\u001b[0m\u001b[0m\n\u001b[0m\u001b[1;32m   1375\u001b[0m \u001b[0;34m\u001b[0m\u001b[0m\n\u001b[1;32m   1376\u001b[0m \u001b[0;34m\u001b[0m\u001b[0m\n",
      "\u001b[0;32m/Applications/anaconda3/envs/UP299/lib/python3.8/site-packages/dateutil/parser/_parser.py\u001b[0m in \u001b[0;36mparse\u001b[0;34m(self, timestr, default, ignoretz, tzinfos, **kwargs)\u001b[0m\n\u001b[1;32m    655\u001b[0m             \u001b[0mret\u001b[0m \u001b[0;34m=\u001b[0m \u001b[0mself\u001b[0m\u001b[0;34m.\u001b[0m\u001b[0m_build_naive\u001b[0m\u001b[0;34m(\u001b[0m\u001b[0mres\u001b[0m\u001b[0;34m,\u001b[0m \u001b[0mdefault\u001b[0m\u001b[0;34m)\u001b[0m\u001b[0;34m\u001b[0m\u001b[0;34m\u001b[0m\u001b[0m\n\u001b[1;32m    656\u001b[0m         \u001b[0;32mexcept\u001b[0m \u001b[0mValueError\u001b[0m \u001b[0;32mas\u001b[0m \u001b[0me\u001b[0m\u001b[0;34m:\u001b[0m\u001b[0;34m\u001b[0m\u001b[0;34m\u001b[0m\u001b[0m\n\u001b[0;32m--> 657\u001b[0;31m             \u001b[0msix\u001b[0m\u001b[0;34m.\u001b[0m\u001b[0mraise_from\u001b[0m\u001b[0;34m(\u001b[0m\u001b[0mParserError\u001b[0m\u001b[0;34m(\u001b[0m\u001b[0me\u001b[0m\u001b[0;34m.\u001b[0m\u001b[0margs\u001b[0m\u001b[0;34m[\u001b[0m\u001b[0;36m0\u001b[0m\u001b[0;34m]\u001b[0m \u001b[0;34m+\u001b[0m \u001b[0;34m\": %s\"\u001b[0m\u001b[0;34m,\u001b[0m \u001b[0mtimestr\u001b[0m\u001b[0;34m)\u001b[0m\u001b[0;34m,\u001b[0m \u001b[0me\u001b[0m\u001b[0;34m)\u001b[0m\u001b[0;34m\u001b[0m\u001b[0;34m\u001b[0m\u001b[0m\n\u001b[0m\u001b[1;32m    658\u001b[0m \u001b[0;34m\u001b[0m\u001b[0m\n\u001b[1;32m    659\u001b[0m         \u001b[0;32mif\u001b[0m \u001b[0;32mnot\u001b[0m \u001b[0mignoretz\u001b[0m\u001b[0;34m:\u001b[0m\u001b[0;34m\u001b[0m\u001b[0;34m\u001b[0m\u001b[0m\n",
      "\u001b[0;32m/Applications/anaconda3/envs/UP299/lib/python3.8/site-packages/six.py\u001b[0m in \u001b[0;36mraise_from\u001b[0;34m(value, from_value)\u001b[0m\n",
      "\u001b[0;31mParserError\u001b[0m: day is out of range for month: 19830232"
     ]
    }
   ],
   "source": [
    "#what happened here- how can I fix this without dropping the rows with 0?\n",
    "parcelsdf['ls1_sale_date']=parcelsdf.ls1_sale_date.fillna(19990101)\n",
    "parcelsdf['ls1_sale_date']=parcelsdf['ls1_sale_date'].replace(to_replace=0,value=19990101)\n",
    "parcelsdf['ls1_sale_date']=parcelsdf['ls1_sale_date'].replace(to_replace=19830232,value=19990101)\n",
    "parcelsdf['ls1_sale_date']=parcelsdf.ls1_sale_date.astype(int).astype(str)\n",
    "parcelsdf['last_sold_date'] = pd.to_datetime(parcelsdf['ls1_sale_date'],infer_datetime_format=True)\n",
    "print(parcelsdf.last_sold_date.unique())"
   ]
  },
  {
   "cell_type": "code",
   "execution_count": 34,
   "id": "74922209",
   "metadata": {},
   "outputs": [
    {
     "data": {
      "text/plain": [
       "121655    20191231\n",
       "542282    20191231\n",
       "675113    20191231\n",
       "36112     20191231\n",
       "439690    20191231\n",
       "106875    20191231\n",
       "395807    20191231\n",
       "405566    20191231\n",
       "643076    20191231\n",
       "272472    20191231\n",
       "Name: ls1_sale_date, dtype: object"
      ]
     },
     "execution_count": 34,
     "metadata": {},
     "output_type": "execute_result"
    }
   ],
   "source": [
    "parcelsdf.sort_values('ls1_sale_date').ls1_sale_date.tail(10)"
   ]
  },
  {
   "cell_type": "code",
   "execution_count": 18,
   "id": "e1d9632c",
   "metadata": {},
   "outputs": [],
   "source": [
    "#will this work and how to write?\n",
    "parcelsdf['sold_14_19']=parcelsdf.ls1_sale_date.apply(lambda x:1 if (x>20140000 and x<20200000) else 0)"
   ]
  },
  {
   "cell_type": "code",
   "execution_count": 19,
   "id": "cf5b6247",
   "metadata": {},
   "outputs": [],
   "source": [
    "parcelsdf['built_14_19']=parcelsdf.yearbuilt_avg.apply(lambda x: 1 if (x>2013 and x<2020) else 0)"
   ]
  },
  {
   "cell_type": "code",
   "execution_count": 20,
   "id": "76fc2d93",
   "metadata": {},
   "outputs": [
    {
     "ename": "SyntaxError",
     "evalue": "invalid syntax (<ipython-input-20-57c892b57dc2>, line 2)",
     "output_type": "error",
     "traceback": [
      "\u001b[0;36m  File \u001b[0;32m\"<ipython-input-20-57c892b57dc2>\"\u001b[0;36m, line \u001b[0;32m2\u001b[0m\n\u001b[0;31m    parcelsdf['landlord_type']=\u001b[0m\n\u001b[0m                               ^\u001b[0m\n\u001b[0;31mSyntaxError\u001b[0m\u001b[0;31m:\u001b[0m invalid syntax\n"
     ]
    }
   ],
   "source": [
    "#ask about this too for text, esp wildcard characters\n",
    "parcelsdf['landlord_type']="
   ]
  },
  {
   "cell_type": "code",
   "execution_count": null,
   "id": "86c280c5",
   "metadata": {},
   "outputs": [],
   "source": [
    "#how to create a new df of ll size by counting units and counts of mailing address, then apply to original df\n",
    "\n",
    "parcelsdf['landlord_size_units']=\n",
    "\n",
    "parcelsdf['landlord_size_properties']=\n"
   ]
  },
  {
   "cell_type": "code",
   "execution_count": null,
   "id": "fbdecab9",
   "metadata": {},
   "outputs": [],
   "source": [
    "#We also need a bool indicator of the corporate status for regression\n",
    "\n",
    "parcelsdf['landlord_iscorp']="
   ]
  },
  {
   "cell_type": "markdown",
   "id": "82162c2b",
   "metadata": {},
   "source": [
    "Now, we will turn to assigning neighborhood characteristics for the parcels in question, using census data from the ACS acquired through cenpy's API tool. Index of tables https://www2.census.gov/programs-surveys/acs/tech_docs/table_shells/2019/"
   ]
  },
  {
   "cell_type": "code",
   "execution_count": 21,
   "id": "ffeedbca",
   "metadata": {},
   "outputs": [],
   "source": [
    "import requests\n",
    "import cenpy\n",
    "from cenpy import products\n",
    "\n",
    "acs19=cenpy.products.ACS(2019)"
   ]
  },
  {
   "cell_type": "code",
   "execution_count": 23,
   "id": "eec7e999",
   "metadata": {},
   "outputs": [],
   "source": [
    "vars_to_download_19 = {\n",
    "    \"B25064_001E\": \"median_rent_2019\",\n",
    "    \"B25077_001E\": \"median_value_2019\",\n",
    "    \"B03002_001E\": \"total_pop_2019\",\n",
    "    \"B03002_003E\": \"white_2019\",\n",
    "    \"B03002_004E\": \"black_2019\",\n",
    "    \"B03002_012E\": \"latx_2019\",\n",
    "    \"B25003_001E\": \"housing_occupied_2019\",\n",
    "    \"B25001_003E\": \"housing_rented_2019\",\n",
    "    \"B09019_007E\": \"hh_female_head_2019\",\n",
    "    \"B09019_001E\": \"hh_total_2019\",\n",
    "    \"B15003_001E\": \"educ_all_2019\",\n",
    "    \"B15003_015E\": \"educ_bachelors_2019\",\n",
    "    \"B15003_016E\": \"educ_masters_2019\",\n",
    "    \"B15003_017E\": \"educ_professional_2019\",\n",
    "    \"B15003_018E\": \"educ_doctoral_2019\", \n",
    "    \"B19013_001E\": \"median_income_2019\",\n",
    "    \"B23025_003E\": \"civ_laborforce_2019\",\n",
    "    \"B23025_005E\": \"civ_unemployed_2019\",\n",
    "    \"B17002_001E\": \"pov_all_2019\",\n",
    "    \"B17002_002E\": \"pov_extreme_2019\",\n",
    "    \"B17002_003E\": \"pov_severe_2019\",\n",
    "    \"B17002_004E\": \"pov_in_2019\",\n",
    "    \"B11005_001E\": \"hh_kids_all_2019\",\n",
    "    \"B11005_002E\": \"hh_kids_yes_2019\",\n",
    "    \"B25002_001E\": \"units_all_2019\",\n",
    "    \"B25002_003E\": \"units_vacant_2019\"\n",
    "    \n",
    "}\n",
    "vars_to_download_l_19 = list(vars_to_download_19.keys())"
   ]
  },
  {
   "cell_type": "code",
   "execution_count": 36,
   "id": "9c76ad14",
   "metadata": {},
   "outputs": [
    {
     "name": "stderr",
     "output_type": "stream",
     "text": [
      "/Applications/anaconda3/envs/UP299/lib/python3.8/site-packages/pyproj/crs/crs.py:53: FutureWarning: '+init=<authority>:<code>' syntax is deprecated. '<authority>:<code>' is the preferred initialization method. When making the change, be mindful of axis order changes: https://pyproj4.github.io/pyproj/stable/gotchas.html#axis-order-changes-in-proj-6\n",
      "  return _prepare_from_string(\" \".join(pjargs))\n"
     ]
    },
    {
     "name": "stdout",
     "output_type": "stream",
     "text": [
      "Matched: Los Angeles, CA to Los Angeles city within layer Incorporated Places\n"
     ]
    }
   ],
   "source": [
    "tracts19gdf=products.ACS(2019).from_place('Los Angeles, CA',place_type='Incorporated Place',level='tract',variables=vars_to_download_l_19)"
   ]
  },
  {
   "cell_type": "code",
   "execution_count": 37,
   "id": "8c661977",
   "metadata": {},
   "outputs": [
    {
     "name": "stdout",
     "output_type": "stream",
     "text": [
      "         GEOID                                           geometry  \\\n",
      "0  06037297201  POLYGON ((-13168495.190 3991594.850, -13168494...   \n",
      "1  06037297110  POLYGON ((-13167752.470 3992927.300, -13167751...   \n",
      "2  06037296220  POLYGON ((-13167749.020 3993777.050, -13167748...   \n",
      "3  06037294510  POLYGON ((-13166314.000 4000710.020, -13166192...   \n",
      "4  06037134305  POLYGON ((-13203148.170 4058335.410, -13202671...   \n",
      "5  06037134306  POLYGON ((-13203147.280 4057781.040, -13203142...   \n",
      "6  06037137103  POLYGON ((-13203133.920 4051914.680, -13203125...   \n",
      "7  06037134903  POLYGON ((-13202209.750 4054849.300, -13202159...   \n",
      "8  06037137501  POLYGON ((-13201197.410 4051166.750, -13201184...   \n",
      "9  06037115301  POLYGON ((-13197323.600 4061827.570, -13197323...   \n",
      "\n",
      "   B03002_001E  B03002_003E  B03002_004E  B03002_012E  B09019_001E  \\\n",
      "0       4505.0        848.0        327.0       2892.0       4505.0   \n",
      "1       4649.0        758.0        515.0       2988.0       4649.0   \n",
      "2       4447.0        412.0        568.0       2902.0       4447.0   \n",
      "3       5082.0         98.0         10.0       4958.0       5082.0   \n",
      "4       4183.0        260.0         60.0       3473.0       4183.0   \n",
      "5       4305.0       1109.0        285.0       2305.0       4305.0   \n",
      "6       5382.0       3400.0         76.0        850.0       5382.0   \n",
      "7       6919.0       1593.0        314.0       3560.0       6919.0   \n",
      "8       4915.0       3173.0        336.0        881.0       4915.0   \n",
      "9       4524.0       2296.0        150.0        881.0       4524.0   \n",
      "\n",
      "   B09019_007E  B11005_001E  B11005_002E  ...  B23025_003E  B23025_005E  \\\n",
      "0        645.0       1467.0        631.0  ...       2350.0         61.0   \n",
      "1        800.0       1558.0        501.0  ...       2410.0        234.0   \n",
      "2       1018.0       1775.0        553.0  ...       2051.0        115.0   \n",
      "3        451.0       1079.0        592.0  ...       2314.0        206.0   \n",
      "4        429.0       1130.0        671.0  ...       2346.0        120.0   \n",
      "5        605.0       1324.0        560.0  ...       2394.0         65.0   \n",
      "6       1233.0       2395.0        462.0  ...       3256.0        101.0   \n",
      "7       1245.0       2764.0        777.0  ...       4568.0        309.0   \n",
      "8        804.0       1932.0        580.0  ...       2788.0        237.0   \n",
      "9        860.0       1653.0        465.0  ...       2099.0         90.0   \n",
      "\n",
      "   B25002_001E  B25002_003E  B25003_001E  B25064_001E  B25077_001E  state  \\\n",
      "0       1502.0         35.0       1467.0       1544.0     448200.0     06   \n",
      "1       1704.0        146.0       1558.0       1149.0     473500.0     06   \n",
      "2       1917.0        142.0       1775.0        936.0     373100.0     06   \n",
      "3       1161.0         82.0       1079.0       1169.0     393200.0     06   \n",
      "4       1150.0         20.0       1130.0       1375.0          NaN     06   \n",
      "5       1324.0          0.0       1324.0       1572.0     443300.0     06   \n",
      "6       2580.0        185.0       2395.0       2225.0     461100.0     06   \n",
      "7       2985.0        221.0       2764.0       1835.0          NaN     06   \n",
      "8       2156.0        224.0       1932.0       2465.0    1040000.0     06   \n",
      "9       1785.0        132.0       1653.0       1874.0     625000.0     06   \n",
      "\n",
      "   county   tract  \n",
      "0     037  297201  \n",
      "1     037  297110  \n",
      "2     037  296220  \n",
      "3     037  294510  \n",
      "4     037  134305  \n",
      "5     037  134306  \n",
      "6     037  137103  \n",
      "7     037  134903  \n",
      "8     037  137501  \n",
      "9     037  115301  \n",
      "\n",
      "[10 rows x 26 columns]\n"
     ]
    }
   ],
   "source": [
    "print(tracts19gdf.head(10))"
   ]
  },
  {
   "cell_type": "code",
   "execution_count": 39,
   "id": "36b60d29",
   "metadata": {},
   "outputs": [
    {
     "name": "stdout",
     "output_type": "stream",
     "text": [
      "         GEOID                                           geometry  \\\n",
      "0  06037297201  POLYGON ((-13168495.190 3991594.850, -13168494...   \n",
      "1  06037297110  POLYGON ((-13167752.470 3992927.300, -13167751...   \n",
      "2  06037296220  POLYGON ((-13167749.020 3993777.050, -13167748...   \n",
      "3  06037294510  POLYGON ((-13166314.000 4000710.020, -13166192...   \n",
      "4  06037134305  POLYGON ((-13203148.170 4058335.410, -13202671...   \n",
      "5  06037134306  POLYGON ((-13203147.280 4057781.040, -13203142...   \n",
      "6  06037137103  POLYGON ((-13203133.920 4051914.680, -13203125...   \n",
      "7  06037134903  POLYGON ((-13202209.750 4054849.300, -13202159...   \n",
      "8  06037137501  POLYGON ((-13201197.410 4051166.750, -13201184...   \n",
      "9  06037115301  POLYGON ((-13197323.600 4061827.570, -13197323...   \n",
      "\n",
      "   total_pop_2019  white_2019  black_2019  latx_2019  hh_total_2019  \\\n",
      "0          4505.0       848.0       327.0     2892.0         4505.0   \n",
      "1          4649.0       758.0       515.0     2988.0         4649.0   \n",
      "2          4447.0       412.0       568.0     2902.0         4447.0   \n",
      "3          5082.0        98.0        10.0     4958.0         5082.0   \n",
      "4          4183.0       260.0        60.0     3473.0         4183.0   \n",
      "5          4305.0      1109.0       285.0     2305.0         4305.0   \n",
      "6          5382.0      3400.0        76.0      850.0         5382.0   \n",
      "7          6919.0      1593.0       314.0     3560.0         6919.0   \n",
      "8          4915.0      3173.0       336.0      881.0         4915.0   \n",
      "9          4524.0      2296.0       150.0      881.0         4524.0   \n",
      "\n",
      "   hh_female_head_2019  hh_kids_all_2019  hh_kids_yes_2019  ...  \\\n",
      "0                645.0            1467.0             631.0  ...   \n",
      "1                800.0            1558.0             501.0  ...   \n",
      "2               1018.0            1775.0             553.0  ...   \n",
      "3                451.0            1079.0             592.0  ...   \n",
      "4                429.0            1130.0             671.0  ...   \n",
      "5                605.0            1324.0             560.0  ...   \n",
      "6               1233.0            2395.0             462.0  ...   \n",
      "7               1245.0            2764.0             777.0  ...   \n",
      "8                804.0            1932.0             580.0  ...   \n",
      "9                860.0            1653.0             465.0  ...   \n",
      "\n",
      "   civ_laborforce_2019  civ_unemployed_2019  units_all_2019  \\\n",
      "0               2350.0                 61.0          1502.0   \n",
      "1               2410.0                234.0          1704.0   \n",
      "2               2051.0                115.0          1917.0   \n",
      "3               2314.0                206.0          1161.0   \n",
      "4               2346.0                120.0          1150.0   \n",
      "5               2394.0                 65.0          1324.0   \n",
      "6               3256.0                101.0          2580.0   \n",
      "7               4568.0                309.0          2985.0   \n",
      "8               2788.0                237.0          2156.0   \n",
      "9               2099.0                 90.0          1785.0   \n",
      "\n",
      "   units_vacant_2019  housing_occupied_2019  median_rent_2019  \\\n",
      "0               35.0                 1467.0            1544.0   \n",
      "1              146.0                 1558.0            1149.0   \n",
      "2              142.0                 1775.0             936.0   \n",
      "3               82.0                 1079.0            1169.0   \n",
      "4               20.0                 1130.0            1375.0   \n",
      "5                0.0                 1324.0            1572.0   \n",
      "6              185.0                 2395.0            2225.0   \n",
      "7              221.0                 2764.0            1835.0   \n",
      "8              224.0                 1932.0            2465.0   \n",
      "9              132.0                 1653.0            1874.0   \n",
      "\n",
      "   median_value_2019  state  county   tract  \n",
      "0           448200.0     06     037  297201  \n",
      "1           473500.0     06     037  297110  \n",
      "2           373100.0     06     037  296220  \n",
      "3           393200.0     06     037  294510  \n",
      "4                NaN     06     037  134305  \n",
      "5           443300.0     06     037  134306  \n",
      "6           461100.0     06     037  137103  \n",
      "7                NaN     06     037  134903  \n",
      "8          1040000.0     06     037  137501  \n",
      "9           625000.0     06     037  115301  \n",
      "\n",
      "[10 rows x 26 columns]\n"
     ]
    }
   ],
   "source": [
    "tracts19gdf=tracts19gdf.rename(columns=vars_to_download_19)\n",
    "print(tracts19gdf.head(10))"
   ]
  },
  {
   "cell_type": "code",
   "execution_count": 48,
   "id": "4078a8c8",
   "metadata": {},
   "outputs": [
    {
     "data": {
      "text/plain": [
       "<function cenpy.explorer.explain(identifier=None, verbose=False)>"
      ]
     },
     "execution_count": 48,
     "metadata": {},
     "output_type": "execute_result"
    }
   ],
   "source": []
  },
  {
   "cell_type": "code",
   "execution_count": 43,
   "id": "cfabe675",
   "metadata": {},
   "outputs": [
    {
     "ename": "KeyError",
     "evalue": "'Dataset tigerWMS_ACS2014 not found. Please check cenpy.tiger.available()'",
     "output_type": "error",
     "traceback": [
      "\u001b[0;31m---------------------------------------------------------------------------\u001b[0m",
      "\u001b[0;31mKeyError\u001b[0m                                  Traceback (most recent call last)",
      "\u001b[0;32m<ipython-input-43-5759c96cb53d>\u001b[0m in \u001b[0;36m<module>\u001b[0;34m\u001b[0m\n\u001b[0;32m----> 1\u001b[0;31m \u001b[0macs14\u001b[0m\u001b[0;34m=\u001b[0m\u001b[0mcenpy\u001b[0m\u001b[0;34m.\u001b[0m\u001b[0mproducts\u001b[0m\u001b[0;34m.\u001b[0m\u001b[0mACS\u001b[0m\u001b[0;34m(\u001b[0m\u001b[0myear\u001b[0m\u001b[0;34m=\u001b[0m\u001b[0;36m2014\u001b[0m\u001b[0;34m)\u001b[0m\u001b[0;34m\u001b[0m\u001b[0;34m\u001b[0m\u001b[0m\n\u001b[0m",
      "\u001b[0;32m/Applications/anaconda3/envs/UP299/lib/python3.8/site-packages/cenpy/products.py\u001b[0m in \u001b[0;36m__init__\u001b[0;34m(self, year)\u001b[0m\n\u001b[1;32m    686\u001b[0m             )\n\u001b[1;32m    687\u001b[0m         \u001b[0mself\u001b[0m\u001b[0;34m.\u001b[0m\u001b[0m_api\u001b[0m \u001b[0;34m=\u001b[0m \u001b[0mAPIConnection\u001b[0m\u001b[0;34m(\u001b[0m\u001b[0;34m\"ACSDT{}Y{}\"\u001b[0m\u001b[0;34m.\u001b[0m\u001b[0mformat\u001b[0m\u001b[0;34m(\u001b[0m\u001b[0;36m5\u001b[0m\u001b[0;34m,\u001b[0m \u001b[0myear\u001b[0m\u001b[0;34m)\u001b[0m\u001b[0;34m)\u001b[0m\u001b[0;34m\u001b[0m\u001b[0;34m\u001b[0m\u001b[0m\n\u001b[0;32m--> 688\u001b[0;31m         \u001b[0mself\u001b[0m\u001b[0;34m.\u001b[0m\u001b[0m_api\u001b[0m\u001b[0;34m.\u001b[0m\u001b[0mset_mapservice\u001b[0m\u001b[0;34m(\u001b[0m\u001b[0;34m\"tigerWMS_ACS{}\"\u001b[0m\u001b[0;34m.\u001b[0m\u001b[0mformat\u001b[0m\u001b[0;34m(\u001b[0m\u001b[0myear\u001b[0m\u001b[0;34m)\u001b[0m\u001b[0;34m)\u001b[0m\u001b[0;34m\u001b[0m\u001b[0;34m\u001b[0m\u001b[0m\n\u001b[0m\u001b[1;32m    689\u001b[0m \u001b[0;34m\u001b[0m\u001b[0m\n\u001b[1;32m    690\u001b[0m     def _from_name(\n",
      "\u001b[0;32m/Applications/anaconda3/envs/UP299/lib/python3.8/site-packages/cenpy/remote.py\u001b[0m in \u001b[0;36mset_mapservice\u001b[0;34m(self, key)\u001b[0m\n\u001b[1;32m    343\u001b[0m             \u001b[0mself\u001b[0m\u001b[0;34m.\u001b[0m\u001b[0mmapservice\u001b[0m \u001b[0;34m=\u001b[0m \u001b[0mkey\u001b[0m\u001b[0;34m\u001b[0m\u001b[0;34m\u001b[0m\u001b[0m\n\u001b[1;32m    344\u001b[0m         \u001b[0;32melif\u001b[0m \u001b[0misinstance\u001b[0m\u001b[0;34m(\u001b[0m\u001b[0mkey\u001b[0m\u001b[0;34m,\u001b[0m \u001b[0mstr\u001b[0m\u001b[0;34m)\u001b[0m\u001b[0;34m:\u001b[0m\u001b[0;34m\u001b[0m\u001b[0;34m\u001b[0m\u001b[0m\n\u001b[0;32m--> 345\u001b[0;31m             \u001b[0mself\u001b[0m\u001b[0;34m.\u001b[0m\u001b[0mmapservice\u001b[0m \u001b[0;34m=\u001b[0m \u001b[0mtig\u001b[0m\u001b[0;34m.\u001b[0m\u001b[0mTigerConnection\u001b[0m\u001b[0;34m(\u001b[0m\u001b[0mname\u001b[0m\u001b[0;34m=\u001b[0m\u001b[0mkey\u001b[0m\u001b[0;34m)\u001b[0m\u001b[0;34m\u001b[0m\u001b[0;34m\u001b[0m\u001b[0m\n\u001b[0m\u001b[1;32m    346\u001b[0m         \u001b[0;32mreturn\u001b[0m \u001b[0mself\u001b[0m\u001b[0;34m\u001b[0m\u001b[0;34m\u001b[0m\u001b[0m\n",
      "\u001b[0;32m/Applications/anaconda3/envs/UP299/lib/python3.8/site-packages/cenpy/tiger.py\u001b[0m in \u001b[0;36m__init__\u001b[0;34m(self, name)\u001b[0m\n\u001b[1;32m    235\u001b[0m         \"\"\"\n\u001b[1;32m    236\u001b[0m         \u001b[0;32mif\u001b[0m \u001b[0mname\u001b[0m \u001b[0;32mnot\u001b[0m \u001b[0;32min\u001b[0m \u001b[0mavailable\u001b[0m\u001b[0;34m(\u001b[0m\u001b[0mverbose\u001b[0m\u001b[0;34m=\u001b[0m\u001b[0;34m-\u001b[0m\u001b[0;36m1\u001b[0m\u001b[0;34m)\u001b[0m\u001b[0;34m:\u001b[0m\u001b[0;34m\u001b[0m\u001b[0;34m\u001b[0m\u001b[0m\n\u001b[0;32m--> 237\u001b[0;31m             raise KeyError(\n\u001b[0m\u001b[1;32m    238\u001b[0m                 \"Dataset {n} not found. Please check cenpy.tiger.available()\".format(\n\u001b[1;32m    239\u001b[0m                     \u001b[0mn\u001b[0m\u001b[0;34m=\u001b[0m\u001b[0mname\u001b[0m\u001b[0;34m\u001b[0m\u001b[0;34m\u001b[0m\u001b[0m\n",
      "\u001b[0;31mKeyError\u001b[0m: 'Dataset tigerWMS_ACS2014 not found. Please check cenpy.tiger.available()'"
     ]
    }
   ],
   "source": [
    "acs14=cenpy.products.ACS(year=2014)"
   ]
  },
  {
   "cell_type": "code",
   "execution_count": 44,
   "id": "5e6fe173",
   "metadata": {},
   "outputs": [],
   "source": [
    "vars_to_download_14 = {\n",
    "    \"B25064_001E\": \"median_rent_2014\",\n",
    "    \"B25077_001E\": \"median_value_2014\",\n",
    "    \"B03002_001E\": \"total_pop_2014\",\n",
    "    \"B03002_003E\": \"white_2014\",\n",
    "    \"B03002_004E\": \"black_2014\",\n",
    "    \"B03002_012E\": \"latx_2014\",\n",
    "    \"B25003_001E\": \"housing_occupied_2014\",\n",
    "    \"B25001_003E\": \"housing_rented_2014\",\n",
    "    \"B09019_007E\": \"hh_female_head_2014\",\n",
    "    \"B09019_001E\": \"hh_total_2014\",\n",
    "    \"B15003_001E\": \"educ_all_2014\",\n",
    "    \"B15003_015E\": \"educ_bachelors_2014\",\n",
    "    \"B15003_016E\": \"educ_masters_2014\",\n",
    "    \"B15003_017E\": \"educ_professional_2014\",\n",
    "    \"B15003_018E\": \"educ_doctoral_2014\", \n",
    "    \"B19013_001E\": \"median_income_2014\",\n",
    "    \"B23025_003E\": \"civ_laborforce_2014\",\n",
    "    \"B23025_005E\": \"civ_unemployed_2014\",\n",
    "    \"B17002_001E\": \"pov_all_2014\",\n",
    "    \"B17002_002E\": \"pov_extreme_2014\",\n",
    "    \"B17002_003E\": \"pov_severe_2014\",\n",
    "    \"B17002_004E\": \"pov_in_2014\",\n",
    "    \"B11005_001E\": \"hh_kids_all_2014\",\n",
    "    \"B11005_002E\": \"hh_kids_yes_2014\",\n",
    "    \"B25002_001E\": \"units_all_2014\",\n",
    "    \"B25002_003E\": \"units_vacant_2014\"\n",
    "    \n",
    "}\n",
    "vars_to_download_l_14 = list(vars_to_download_14.keys())"
   ]
  },
  {
   "cell_type": "code",
   "execution_count": 45,
   "id": "a16c003c",
   "metadata": {},
   "outputs": [
    {
     "ename": "KeyError",
     "evalue": "'Dataset tigerWMS_ACS2014 not found. Please check cenpy.tiger.available()'",
     "output_type": "error",
     "traceback": [
      "\u001b[0;31m---------------------------------------------------------------------------\u001b[0m",
      "\u001b[0;31mKeyError\u001b[0m                                  Traceback (most recent call last)",
      "\u001b[0;32m<ipython-input-45-636d236e6214>\u001b[0m in \u001b[0;36m<module>\u001b[0;34m\u001b[0m\n\u001b[0;32m----> 1\u001b[0;31m \u001b[0mtracts14gdf\u001b[0m\u001b[0;34m=\u001b[0m\u001b[0mproducts\u001b[0m\u001b[0;34m.\u001b[0m\u001b[0mACS\u001b[0m\u001b[0;34m(\u001b[0m\u001b[0;36m2014\u001b[0m\u001b[0;34m)\u001b[0m\u001b[0;34m.\u001b[0m\u001b[0mfrom_place\u001b[0m\u001b[0;34m(\u001b[0m\u001b[0;34m'Los Angeles, CA'\u001b[0m\u001b[0;34m,\u001b[0m\u001b[0mplace_type\u001b[0m\u001b[0;34m=\u001b[0m\u001b[0;34m'Incorporated Place'\u001b[0m\u001b[0;34m,\u001b[0m\u001b[0mlevel\u001b[0m\u001b[0;34m=\u001b[0m\u001b[0;34m'tract'\u001b[0m\u001b[0;34m,\u001b[0m\u001b[0mvariables\u001b[0m\u001b[0;34m=\u001b[0m\u001b[0mvars_to_download_l_14\u001b[0m\u001b[0;34m)\u001b[0m\u001b[0;34m\u001b[0m\u001b[0;34m\u001b[0m\u001b[0m\n\u001b[0m",
      "\u001b[0;32m/Applications/anaconda3/envs/UP299/lib/python3.8/site-packages/cenpy/products.py\u001b[0m in \u001b[0;36m__init__\u001b[0;34m(self, year)\u001b[0m\n\u001b[1;32m    686\u001b[0m             )\n\u001b[1;32m    687\u001b[0m         \u001b[0mself\u001b[0m\u001b[0;34m.\u001b[0m\u001b[0m_api\u001b[0m \u001b[0;34m=\u001b[0m \u001b[0mAPIConnection\u001b[0m\u001b[0;34m(\u001b[0m\u001b[0;34m\"ACSDT{}Y{}\"\u001b[0m\u001b[0;34m.\u001b[0m\u001b[0mformat\u001b[0m\u001b[0;34m(\u001b[0m\u001b[0;36m5\u001b[0m\u001b[0;34m,\u001b[0m \u001b[0myear\u001b[0m\u001b[0;34m)\u001b[0m\u001b[0;34m)\u001b[0m\u001b[0;34m\u001b[0m\u001b[0;34m\u001b[0m\u001b[0m\n\u001b[0;32m--> 688\u001b[0;31m         \u001b[0mself\u001b[0m\u001b[0;34m.\u001b[0m\u001b[0m_api\u001b[0m\u001b[0;34m.\u001b[0m\u001b[0mset_mapservice\u001b[0m\u001b[0;34m(\u001b[0m\u001b[0;34m\"tigerWMS_ACS{}\"\u001b[0m\u001b[0;34m.\u001b[0m\u001b[0mformat\u001b[0m\u001b[0;34m(\u001b[0m\u001b[0myear\u001b[0m\u001b[0;34m)\u001b[0m\u001b[0;34m)\u001b[0m\u001b[0;34m\u001b[0m\u001b[0;34m\u001b[0m\u001b[0m\n\u001b[0m\u001b[1;32m    689\u001b[0m \u001b[0;34m\u001b[0m\u001b[0m\n\u001b[1;32m    690\u001b[0m     def _from_name(\n",
      "\u001b[0;32m/Applications/anaconda3/envs/UP299/lib/python3.8/site-packages/cenpy/remote.py\u001b[0m in \u001b[0;36mset_mapservice\u001b[0;34m(self, key)\u001b[0m\n\u001b[1;32m    343\u001b[0m             \u001b[0mself\u001b[0m\u001b[0;34m.\u001b[0m\u001b[0mmapservice\u001b[0m \u001b[0;34m=\u001b[0m \u001b[0mkey\u001b[0m\u001b[0;34m\u001b[0m\u001b[0;34m\u001b[0m\u001b[0m\n\u001b[1;32m    344\u001b[0m         \u001b[0;32melif\u001b[0m \u001b[0misinstance\u001b[0m\u001b[0;34m(\u001b[0m\u001b[0mkey\u001b[0m\u001b[0;34m,\u001b[0m \u001b[0mstr\u001b[0m\u001b[0;34m)\u001b[0m\u001b[0;34m:\u001b[0m\u001b[0;34m\u001b[0m\u001b[0;34m\u001b[0m\u001b[0m\n\u001b[0;32m--> 345\u001b[0;31m             \u001b[0mself\u001b[0m\u001b[0;34m.\u001b[0m\u001b[0mmapservice\u001b[0m \u001b[0;34m=\u001b[0m \u001b[0mtig\u001b[0m\u001b[0;34m.\u001b[0m\u001b[0mTigerConnection\u001b[0m\u001b[0;34m(\u001b[0m\u001b[0mname\u001b[0m\u001b[0;34m=\u001b[0m\u001b[0mkey\u001b[0m\u001b[0;34m)\u001b[0m\u001b[0;34m\u001b[0m\u001b[0;34m\u001b[0m\u001b[0m\n\u001b[0m\u001b[1;32m    346\u001b[0m         \u001b[0;32mreturn\u001b[0m \u001b[0mself\u001b[0m\u001b[0;34m\u001b[0m\u001b[0;34m\u001b[0m\u001b[0m\n",
      "\u001b[0;32m/Applications/anaconda3/envs/UP299/lib/python3.8/site-packages/cenpy/tiger.py\u001b[0m in \u001b[0;36m__init__\u001b[0;34m(self, name)\u001b[0m\n\u001b[1;32m    235\u001b[0m         \"\"\"\n\u001b[1;32m    236\u001b[0m         \u001b[0;32mif\u001b[0m \u001b[0mname\u001b[0m \u001b[0;32mnot\u001b[0m \u001b[0;32min\u001b[0m \u001b[0mavailable\u001b[0m\u001b[0;34m(\u001b[0m\u001b[0mverbose\u001b[0m\u001b[0;34m=\u001b[0m\u001b[0;34m-\u001b[0m\u001b[0;36m1\u001b[0m\u001b[0;34m)\u001b[0m\u001b[0;34m:\u001b[0m\u001b[0;34m\u001b[0m\u001b[0;34m\u001b[0m\u001b[0m\n\u001b[0;32m--> 237\u001b[0;31m             raise KeyError(\n\u001b[0m\u001b[1;32m    238\u001b[0m                 \"Dataset {n} not found. Please check cenpy.tiger.available()\".format(\n\u001b[1;32m    239\u001b[0m                     \u001b[0mn\u001b[0m\u001b[0;34m=\u001b[0m\u001b[0mname\u001b[0m\u001b[0;34m\u001b[0m\u001b[0;34m\u001b[0m\u001b[0m\n",
      "\u001b[0;31mKeyError\u001b[0m: 'Dataset tigerWMS_ACS2014 not found. Please check cenpy.tiger.available()'"
     ]
    }
   ],
   "source": [
    "tracts14gdf=products.ACS(2014).from_place('Los Angeles, CA',place_type='Incorporated Place',level='tract',variables=vars_to_download_l_14)"
   ]
  },
  {
   "cell_type": "markdown",
   "id": "07bf7b56",
   "metadata": {},
   "source": [
    "Now we want to create our datasets for the statistical and clustering tests, one of ellis properties with the parcel information joined, and another of all parcels, with an indication of the ellis status."
   ]
  },
  {
   "cell_type": "code",
   "execution_count": null,
   "id": "3d7e520d",
   "metadata": {},
   "outputs": [],
   "source": [
    "ellisjoindf = studyellisdfdf.join(parcelsf, on=\"ain\", how=\"left\")\n",
    "\n",
    "#is there an easier way to create a new column in the parcels datset that gives a bool indicator of whether an ellis\n",
    "#has coccured than a join?"
   ]
  },
  {
   "cell_type": "markdown",
   "id": "52b9a41f",
   "metadata": {},
   "source": [
    "With our Ellis datset, we will also want to create a new field that takes the difference between the filing date and the last sale date for the property. Thereby we can filter out negative diffs (landlord no longer owns property) and study the difference in neighborhood conditions in changing filing times."
   ]
  },
  {
   "cell_type": "code",
   "execution_count": null,
   "id": "6abbea04",
   "metadata": {},
   "outputs": [],
   "source": [
    "ellisjoindf['time_to_file']=ellisjoindf['application_date']-ellisjoindf['last_sold_date']"
   ]
  }
 ],
 "metadata": {
  "kernelspec": {
   "display_name": "Python 3",
   "language": "python",
   "name": "python3"
  },
  "language_info": {
   "codemirror_mode": {
    "name": "ipython",
    "version": 3
   },
   "file_extension": ".py",
   "mimetype": "text/x-python",
   "name": "python",
   "nbconvert_exporter": "python",
   "pygments_lexer": "ipython3",
   "version": "3.8.8"
  }
 },
 "nbformat": 4,
 "nbformat_minor": 5
}
